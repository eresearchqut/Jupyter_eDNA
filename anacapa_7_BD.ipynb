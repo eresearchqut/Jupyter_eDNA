{
 "cells": [
  {
   "cell_type": "markdown",
   "id": "e63c81db-b81a-4a5f-b77c-fa588c340a89",
   "metadata": {},
   "source": [
    "# 7. Beta diversity"
   ]
  },
  {
   "cell_type": "markdown",
   "id": "e66b8236-c060-44a5-8eae-1784021aa9f1",
   "metadata": {},
   "source": [
    "**************************"
   ]
  },
  {
   "cell_type": "markdown",
   "id": "f0e1108b-57f1-49c2-a916-e37390d845e7",
   "metadata": {},
   "source": [
    "## Section contents\n",
    "[1. Overview](#overview)\n",
    "\n",
    "[2. Setting up your analysis environment](#env1)\n",
    "\n",
    "[3. Preparing your data](#data1)\n",
    "\n",
    "[4. Choosing a categorical variable to analyse](#var1)\n",
    "\n",
    "[5. PCoA plots and statistics - categorical variables](#catana)\n",
    "\n",
    "[6. PCoA plots - continuous variables](#contana)\n",
    "\n"
   ]
  },
  {
   "cell_type": "markdown",
   "id": "1ffe9303-63c9-4220-bdc5-d42fa0b1be3a",
   "metadata": {},
   "source": [
    "****************************"
   ]
  },
  {
   "cell_type": "markdown",
   "id": "058b5f42-a162-44d5-af61-42f1582259f1",
   "metadata": {},
   "source": [
    "## Overview <a class=\"anchor\" id=\"overview\"></a>"
   ]
  },
  {
   "cell_type": "markdown",
   "id": "c8326236-5ff5-4db4-b768-d11d688e8f64",
   "metadata": {},
   "source": [
    "While alpha diversity examines differences within treatment groups (and thus can only examine categorical variables), beta diversity measures the similarity (or dissimilarity) of microbial community composition **between** samples.\n",
    "\n",
    "Each variable is plotted on [Principal coordinates analysis (PCoA)](https://mb3is.megx.net/gustame/dissimilarity-based-methods/principal-coordinates-analysis) plots, to examine the variance between samples based on a dissimilarity matrix. A detailed explanation of PCoA and other ordination methods can be seen here: http://albertsenlab.org/ampvis2-ordination/\n",
    "\n",
    "Sample distance has been measured using 3 distance-based ordination methods (plotted on 2 separate PCoA plots per variable). These methods are:\n",
    "\n",
    "1. [**Bray–Curtis dissimilarity**](https://www.statisticshowto.com/bray-curtis-dissimilarity/) measures the fraction of overabundant counts.\n",
    "\n",
    "`Sorenson, T. (1948) “A method of establishing groups of equal amplitude in plant sociology based on similarity of species content.” Kongelige Danske Videnskabernes Selskab 5.1-34: 4-7.`\n",
    "\n",
    "2. [**Cao index**](https://www.sciencedirect.com/science/article/abs/pii/S0043135496003223) is a minimally biased index for high beta diversity and variable sampling intensity. Chao index tries to take into account the number of unseen species pairs.\n",
    "\n",
    "`Cao, Y., Bark, A. W., & Williams, W. P. (1997). Analysing benthic macroinvertebrate community changes along a pollution gradient: a framework for the development of biotic indices. Water Research, 31(4), 884-892.`\n",
    "\n",
    "3. [**Jaccard similarity index**](https://www.statology.org/jaccard-similarity/) measures the fraction of unique features, regardless of abundance..\n",
    "\n",
    "`Jaccard, P. (1908). “Nouvellesrecherches sur la distribution florale.” Bull. Soc. V and. Sci. Nat., (44):223-270.`\n",
    "\n",
    "\n",
    "**Significance tests**\n",
    "\n",
    "For each beta diversity method, both overall significance and pairwise significance were calculated using a [Permutational Multivariate Analysis of Variance (PERMANOVA)](https://archetypalecology.wordpress.com/2018/02/21/permutational-multivariate-analysis-of-variance-permanova-in-r-preliminary/), a non-parametric multivariate statistical test. This was done in R using the [adonis](https://rdrr.io/rforge/vegan/man/adonis.html) function from the [vegan: Community Ecology Package](https://rdrr.io/rforge/vegan/). A sample-sample distance matrix was first generated from relative (normalised) abundance tables (except for Cao index, which used absolute abundances) using the [vegdist](https://www.rdocumentation.org/packages/vegan/versions/2.4-2/topics/vegdist) function with each of the three distance-based ordination methods (Bray-Curtis, Cao and Jaccard). On this distance matrix PERMANOVA R and p values were calculated using adonis. The R-squared value represents the percentage of variance explained by the examined groups. E.g. if R = 0.23 then 23% of the total diversity is explained by groupwise differences. PERMANOVA is based on groupwise differences, thus cannot be applied to continuous data."
   ]
  },
  {
   "cell_type": "markdown",
   "id": "28b42329-ecb2-46ab-ba7a-61f028771809",
   "metadata": {},
   "source": [
    "***********************************"
   ]
  },
  {
   "cell_type": "markdown",
   "id": "104081bc-30af-4eb3-8155-50f028179778",
   "metadata": {},
   "source": [
    "## 2. Setting up your analysis environment <a class=\"anchor\" id=\"envana1\"></a>"
   ]
  },
  {
   "cell_type": "markdown",
   "id": "bfde6c5c-cfc4-4188-bb90-f6220cbef60c",
   "metadata": {},
   "source": [
    "Before you can begin your analysis you need to set up certain requirements, such as setting your working directory and installing/loading required R packges."
   ]
  },
  {
   "cell_type": "markdown",
   "id": "2151e68c-667c-49f7-bceb-0aea2415c8be",
   "metadata": {},
   "source": [
    "### Set your working directory"
   ]
  },
  {
   "cell_type": "markdown",
   "id": "98a6a009-8d50-4d5f-aa97-537bc4b8a9e6",
   "metadata": {},
   "source": [
    "Your [working directory](https://r-coder.com/working-directory-r/) in R is a base directory where R looks for your anacapa data files (and outputs files to)."
   ]
  },
  {
   "cell_type": "markdown",
   "id": "b59b6ccd-1a52-4058-86d0-7b402abd7e47",
   "metadata": {},
   "source": [
    "You will need to find the path of your anacapa results directory on the HPC and paste the location into the code cell below (setwd(\"~/Paste/Your/anacapa/Results/Directory/Path/Here\"))."
   ]
  },
  {
   "cell_type": "code",
   "execution_count": null,
   "id": "91ac93e6-5f6c-4112-91b8-8d849f59c10d",
   "metadata": {},
   "outputs": [],
   "source": [
    "setwd(\"~/anacapa\")"
   ]
  },
  {
   "cell_type": "markdown",
   "id": "bcff0576-c6ff-47ba-b0ca-9eace6c2afea",
   "metadata": {},
   "source": [
    "### Install the required R packages"
   ]
  },
  {
   "cell_type": "markdown",
   "id": "8ddb5404-19a9-45ac-ba19-853c5f3d3b60",
   "metadata": {},
   "source": [
    "R does most of its analysis using [functions](https://www.tutorialspoint.com/r/r_functions.htm). Some of these are built into base R, but many come as external [packages](https://r-pkgs.org/intro.html), which need to be installed and loaded into R."
   ]
  },
  {
   "cell_type": "markdown",
   "id": "2a5b4188-a2bd-4c5f-8554-4acbfc30aecb",
   "metadata": {},
   "source": [
    "Load any required packages that have previously been installed using the [library()](https://www.tutorialspoint.com/r/r_packages.htm) function:"
   ]
  },
  {
   "cell_type": "code",
   "execution_count": null,
   "id": "c4c8b5ed-5951-4811-9dff-3579e52ef5fd",
   "metadata": {},
   "outputs": [],
   "source": [
    "library(tidyverse)\n",
    "library(scales)\n",
    "library(viridis)"
   ]
  },
  {
   "cell_type": "markdown",
   "id": "268f4650-ad71-4bd5-a883-fb6101c9f4fb",
   "metadata": {},
   "source": [
    "Other packages need to be installed first."
   ]
  },
  {
   "cell_type": "markdown",
   "id": "eefc4c70-90de-4bb3-bdd0-9b7a20951d11",
   "metadata": {},
   "source": [
    "The key R analysis package used was ampvis2 (['Tools for visualising amplicon data'](https://madsalbertsen.github.io/ampvis2/)). Results from anacapa (ASV tables, taxonomy assignment, etc) is used as input for ampvis2 in this notebook. Install and load ampvis2 (this will take a few minutes as there are multiple dependent packages installed):"
   ]
  },
  {
   "cell_type": "code",
   "execution_count": null,
   "id": "9b78f391-8295-488e-b5ab-8969c08f1355",
   "metadata": {},
   "outputs": [],
   "source": [
    "install.packages(\"remotes\", verbose = F)\n",
    "remotes::install_github(\"MadsAlbertsen/ampvis2\", quiet = T)\n",
    "library(ampvis2)"
   ]
  },
  {
   "cell_type": "markdown",
   "id": "9c76fd8f-fad5-4f50-b7ed-6e6ca8c5e6ca",
   "metadata": {},
   "source": [
    "Install and load the vegan package. This is needed for statistical analysis of beta diversity results."
   ]
  },
  {
   "cell_type": "code",
   "execution_count": null,
   "id": "fd869f05-cb98-41d1-97cd-1ae297b0f0b6",
   "metadata": {},
   "outputs": [],
   "source": [
    "install.packages(\"vegan\")\n",
    "library(vegan)"
   ]
  },
  {
   "cell_type": "markdown",
   "id": "2bd6e547-8217-4836-a47e-c13fe207bf4d",
   "metadata": {},
   "source": [
    "Define a set of colours for plotting. Some of these plots have multiple clusters and it's difficult to find eougn contrasting colours to visually separate the clusters. I've developed a set of 25 colours that I've found contrast well, that we can use in the plots for this (and other) sections."
   ]
  },
  {
   "cell_type": "code",
   "execution_count": null,
   "id": "ab8ad5f2-03ac-4190-a045-86ac79e8623a",
   "metadata": {},
   "outputs": [],
   "source": [
    "c25 <- c(\n",
    "  \"dodgerblue2\", \"#E31A1C\", # red\n",
    "  \"green4\",\n",
    "  \"#6A3D9A\", # purple\n",
    "  \"#FF7F00\", # orange\n",
    "  \"black\", \"gold1\",\n",
    "  \"skyblue2\", \"#FB9A99\", # lt pink\n",
    "  \"palegreen2\",\n",
    "  \"#CAB2D6\", # lt purple\n",
    "  \"#FDBF6F\", # lt orange\n",
    "  \"gray70\", \"khaki2\",\n",
    "  \"maroon\", \"orchid1\", \"deeppink1\", \"blue1\", \"steelblue4\",\n",
    "  \"darkturquoise\", \"green1\", \"yellow4\", \"yellow3\",\n",
    "  \"darkorange4\", \"brown\"\n",
    ")"
   ]
  },
  {
   "cell_type": "markdown",
   "id": "5fe69841-e5c8-46d4-b1dc-a3134d075b98",
   "metadata": {},
   "source": [
    "Set the default width and height for plots output on this Notebook. You can modify this as you prefer. Note that every plot in this Notebook is followed by code to output it as a file and this code defines width/height separately from the options below."
   ]
  },
  {
   "cell_type": "code",
   "execution_count": null,
   "id": "5b859c30-7557-4a3f-9065-2665558a3917",
   "metadata": {},
   "outputs": [],
   "source": [
    "options(repr.plot.width=12, repr.plot.height=8)"
   ]
  },
  {
   "cell_type": "markdown",
   "id": "151ace6c-341a-45ad-b7ee-1891fe8b168c",
   "metadata": {},
   "source": [
    "****************************"
   ]
  },
  {
   "cell_type": "markdown",
   "id": "7367815c-bed2-4a4d-84e3-f3dfd3219f85",
   "metadata": {},
   "source": [
    "## 3. Preparing your data <a class=\"anchor\" id=\"dataana1\"></a>"
   ]
  },
  {
   "cell_type": "markdown",
   "id": "e9952b35-baae-4230-9645-fbd3a0cbdda8",
   "metadata": {},
   "source": [
    "This ampvis2-based analysis requires, as input, an R object in ampvis2 format, which has a specific structure. At minumum this requires a samples table, an ASV count table and a taxonomy table, which are then combined into a single ampvis2 object."
   ]
  },
  {
   "cell_type": "markdown",
   "id": "f8c94ccf-160e-4b88-9f7c-b9a251ee1dc8",
   "metadata": {},
   "source": [
    "First you'll need to provide an ID for your project. This must be the project ID you used in the filtration section. See the previous section for details."
   ]
  },
  {
   "cell_type": "code",
   "execution_count": null,
   "id": "c268f572-41e7-4d4c-95dd-5b3ef0ee3948",
   "metadata": {},
   "outputs": [],
   "source": [
    "project_id <- \"rbcl\""
   ]
  },
  {
   "cell_type": "markdown",
   "id": "440d279e-38c2-4e30-8ec4-b80f713dc7a7",
   "metadata": {},
   "source": [
    "### Import the samples table"
   ]
  },
  {
   "cell_type": "code",
   "execution_count": null,
   "id": "95bcc5ca-01d3-425e-93b5-22390da874db",
   "metadata": {},
   "outputs": [],
   "source": [
    "samples_table <- read.csv(\"sample_table.csv\", header = T)"
   ]
  },
  {
   "cell_type": "markdown",
   "id": "ce50301a-54cd-46fc-a8d1-65f09619dcab",
   "metadata": {},
   "source": [
    "Have a look at your samples table and variables (metadata). In the previous filtration section we didn't use this information, but when examining diversity indices, etc, the metadata is critical."
   ]
  },
  {
   "cell_type": "code",
   "execution_count": null,
   "id": "bdfffd40-c4a0-4115-8a67-8895bdee13d3",
   "metadata": {},
   "outputs": [],
   "source": [
    "samples_table"
   ]
  },
  {
   "cell_type": "markdown",
   "id": "b0dcaf27-5b00-4dd8-86dd-3e661b027b2b",
   "metadata": {},
   "source": [
    "### Import the ASV abundance table and taxonomy table"
   ]
  },
  {
   "cell_type": "markdown",
   "id": "c0d76ccf-165d-4e12-b498-bf0868ef19b9",
   "metadata": {},
   "source": [
    "**IMPORTANT: this is the FILTERED data that you exported at the end of the previous filtration section. You must have run that section once (only once is needed) for this and following sections to work**"
   ]
  },
  {
   "cell_type": "code",
   "execution_count": null,
   "id": "24ce76b9-06ec-4fe1-a608-a5f5de2f3164",
   "metadata": {},
   "outputs": [],
   "source": [
    "filtered_data <- read.csv(paste0(project_id, \"_filtered_data.csv\"))"
   ]
  },
  {
   "cell_type": "markdown",
   "id": "7e916e5e-9931-40a8-8cae-3c3adc7a5b02",
   "metadata": {},
   "source": [
    "Have a look at the top few rows of your data. The first 'ASV' column should contain the ASV IDs, the next columns are the samples, followed by the taxonomy levels."
   ]
  },
  {
   "cell_type": "code",
   "execution_count": null,
   "id": "08b80d0d-52e1-4107-828b-f290bbc3df12",
   "metadata": {},
   "outputs": [],
   "source": [
    "head(filtered_data)"
   ]
  },
  {
   "cell_type": "markdown",
   "id": "b66cc68a-ff66-4a11-82d2-d7dd88f2b58c",
   "metadata": {},
   "source": [
    "### Create the ampvis2 database"
   ]
  },
  {
   "cell_type": "markdown",
   "id": "bb8526f6-85c1-4dc3-a444-32ef97187f69",
   "metadata": {},
   "source": [
    "Combine the samples data with the ASV table using amp_load(). This creates an ampvis2 database that can be used by ampvis2"
   ]
  },
  {
   "cell_type": "code",
   "execution_count": null,
   "id": "97ae2d11-1c06-47d2-bc8a-53870b0d32c1",
   "metadata": {},
   "outputs": [],
   "source": [
    "ampvisdata <- amp_load(otutable = filtered_data,\n",
    "              metadata = samples_table)"
   ]
  },
  {
   "cell_type": "markdown",
   "id": "0ee46c8a-eaee-4b6b-9f29-9d5df2d1e3fb",
   "metadata": {},
   "source": [
    "You can see a summary of your dataset by simply running the object name. This shows you the number of taxa identified, total/average/maximum/minimum number of reads per sample, etc. "
   ]
  },
  {
   "cell_type": "code",
   "execution_count": null,
   "id": "2b2892d1-bbd5-4c2e-aa20-dbd949c7d039",
   "metadata": {},
   "outputs": [],
   "source": [
    "ampvisdata"
   ]
  },
  {
   "cell_type": "markdown",
   "id": "25169e26-4800-4c3b-98f9-7bfee8512437",
   "metadata": {},
   "source": [
    "************************************"
   ]
  },
  {
   "cell_type": "markdown",
   "id": "a654ed04-4f75-421b-96d9-c295a87b7eae",
   "metadata": {},
   "source": [
    "## 4. Choosing a categorical variable to analyse <a class=\"anchor\" id=\"varana\"></a>"
   ]
  },
  {
   "cell_type": "markdown",
   "id": "0d5e293d-6ae9-448b-80ff-f1de75f1f36e",
   "metadata": {},
   "source": [
    "**NOTE** This section is for choosing categorical variables only. See section 8 onward for analysis of continous (i.e. numeric) variables."
   ]
  },
  {
   "cell_type": "markdown",
   "id": "6392d072-aa44-41f3-9edd-f4d837566e7a",
   "metadata": {},
   "source": [
    "You can view your variables as column names in your samples_table:"
   ]
  },
  {
   "cell_type": "code",
   "execution_count": null,
   "id": "52c8c41c-075b-4eea-b0ff-d3d974636788",
   "metadata": {},
   "outputs": [],
   "source": [
    "colnames(samples_table)"
   ]
  },
  {
   "cell_type": "markdown",
   "id": "84d38faf-f4eb-4cdc-ba73-ed0005ac298f",
   "metadata": {},
   "source": [
    "Enter the column name of the variable you want to analyse."
   ]
  },
  {
   "cell_type": "code",
   "execution_count": null,
   "id": "7be5c8ae-ca7c-48d6-bf89-180c44d8c2fb",
   "metadata": {},
   "outputs": [],
   "source": [
    "group <- \"Site\""
   ]
  },
  {
   "cell_type": "markdown",
   "id": "73a22628-cb36-445b-a0b0-580a31d522e6",
   "metadata": {},
   "source": [
    "### Ordering your variable"
   ]
  },
  {
   "cell_type": "markdown",
   "id": "a6cfbb1f-37e5-4b90-9019-8e4d5824a85d",
   "metadata": {},
   "source": [
    "The plotting done in ampvis2 is done by the [ggplot2](https://ggplot2.tidyverse.org/) package. ggplot [factorises](https://www.datamentor.io/r-programming/factor/) variables and automatically orders them on the plot by alphabetical order."
   ]
  },
  {
   "cell_type": "markdown",
   "id": "ab221e60-3940-4d5b-b282-7eaee31bf0d3",
   "metadata": {},
   "source": [
    "This can cause your groups to be ordered incorrectly on the plot axes (e.g. a time series may not be plotted sequentially). "
   ]
  },
  {
   "cell_type": "markdown",
   "id": "d05ca676-e47e-48fe-aa13-e98cd6fa6927",
   "metadata": {},
   "source": [
    "You can manually set the order of your variable here. This can be useful where orderof groups on a plot matters, e.g. for time series, or low, medium, high groups, etc. **You can skip this 'Ordering your variable' section if you don't need you groups in a particular order on plots.**"
   ]
  },
  {
   "cell_type": "markdown",
   "id": "13a92757-27ab-4318-9400-3bc29a0dac2f",
   "metadata": {},
   "source": [
    "First have a look at how ggplot will order your variable."
   ]
  },
  {
   "cell_type": "code",
   "execution_count": null,
   "id": "85435d18-01fd-402c-9827-2ed26c09997d",
   "metadata": {},
   "outputs": [],
   "source": [
    "levels(factor(ampvisdata$metadata[[group]]))"
   ]
  },
  {
   "cell_type": "markdown",
   "id": "8f3b719f-af47-4345-ac89-a5eb5f294875",
   "metadata": {},
   "source": [
    "If these are in the order you want to see them on your plot axes, nothing needs to be done. If they are in the wrong order you need to order them manually by setting the [**levels**](https://www.datamentor.io/r-programming/factor/)."
   ]
  },
  {
   "cell_type": "markdown",
   "id": "e1976b8d-7913-4d8a-a62a-d9f37178c6da",
   "metadata": {},
   "source": [
    "Choose how you want to order your groups here:"
   ]
  },
  {
   "cell_type": "code",
   "execution_count": null,
   "id": "5d33f5c0-3786-4a1b-92a0-0c9cd25c441e",
   "metadata": {},
   "outputs": [],
   "source": [
    "lev <- c(\"S1\", \"S2\", \"S3\", \"S4\")"
   ]
  },
  {
   "cell_type": "markdown",
   "id": "0599c4e4-8cbc-43b9-b02c-fa42781a8733",
   "metadata": {},
   "source": [
    "To order your variable you need to put **all** the variable levels into the `lev = c(..)`. Make sure each level is in double quotes and separated by a comma."
   ]
  },
  {
   "cell_type": "markdown",
   "id": "45f2df5f-ce08-4a6f-8b7d-035bd6d6c56e",
   "metadata": {},
   "source": [
    "Then run the following to apply the levels to your data:"
   ]
  },
  {
   "cell_type": "code",
   "execution_count": null,
   "id": "cd969651-dd0c-45fa-99bb-2e8cf7f7de7d",
   "metadata": {},
   "outputs": [],
   "source": [
    "ampvisdata$metadata[[group]] <- factor(ampvisdata$metadata[[group]], levels = lev)"
   ]
  },
  {
   "cell_type": "markdown",
   "id": "2fba1df2-3fef-43c3-bf1b-c4f3d6eed8f3",
   "metadata": {},
   "source": [
    "**************************************"
   ]
  },
  {
   "cell_type": "markdown",
   "id": "b9365bba-8d2a-4da6-8591-8ffff5c3cd6b",
   "metadata": {
    "tags": []
   },
   "source": [
    "## 5. PCoA plots and statistics - categorical variables <a class=\"anchor\" id=\"catana\"></a>"
   ]
  },
  {
   "cell_type": "markdown",
   "id": "336142f1-6eff-4b21-9763-a1492e03a7ad",
   "metadata": {},
   "source": [
    "The overview section outlined (with links and references) the ordination methods that can be used to estimate and plot beta diversity."
   ]
  },
  {
   "cell_type": "markdown",
   "id": "906e548c-646e-471b-8cfe-88afa36cb0cf",
   "metadata": {},
   "source": [
    "Briefly, these are: **Bray–Curtis dissimilarity**, **Cao index**, and **Jaccard similarity index**. Each of these has strengths and weaknesses. It's up to you, the researcher, to explore the literature and decide which is the best index to use for your data."
   ]
  },
  {
   "cell_type": "markdown",
   "id": "13a4a4d0-9d71-46fa-b99a-1a2607cbd032",
   "metadata": {},
   "source": [
    "First, confirm the samples and variable that you chose in the previous section:"
   ]
  },
  {
   "cell_type": "code",
   "execution_count": null,
   "id": "00102b63-6d68-4e92-8dae-d4c2c7e8013e",
   "metadata": {
    "tags": []
   },
   "outputs": [],
   "source": [
    "group"
   ]
  },
  {
   "cell_type": "code",
   "execution_count": null,
   "id": "f45cf77a-5f2e-42ea-bb63-a4fbf7dc1db9",
   "metadata": {
    "tags": []
   },
   "outputs": [],
   "source": [
    "samples_table$sample.id"
   ]
  },
  {
   "cell_type": "markdown",
   "id": "7abcf61d-a66a-4feb-8de7-33ed7e32b4eb",
   "metadata": {},
   "source": [
    "Then, choose the ordination method you want to use to estimate and plot beta diversity."
   ]
  },
  {
   "cell_type": "markdown",
   "id": "38317e59-1bc0-4a30-8044-c05adb0c4f17",
   "metadata": {},
   "source": [
    "Bray–Curtis dissimilarity is used by default (`\"bray\"`) Change this to `\"cao\"` for Cao index, or `\"jaccard\"` for Jaccard similarity index."
   ]
  },
  {
   "cell_type": "code",
   "execution_count": null,
   "id": "710fb4c9-e51c-4dcd-9a5e-ad6eadce8752",
   "metadata": {
    "tags": []
   },
   "outputs": [],
   "source": [
    "index <- \"bray\""
   ]
  },
  {
   "cell_type": "markdown",
   "id": "6650ed41-385e-46ae-9c25-e8e2afae6cc2",
   "metadata": {},
   "source": [
    "<font color=\"blue\">**Optional** You can include another variable in the plot using different point shapes. The initial variable is differentiated by colour, which can be seen in the below plot code with the `sample_color_by =` parameter. You can add the second variable to the `sample_shape_by =` argument.</font>"
   ]
  },
  {
   "cell_type": "markdown",
   "id": "7e362a8c-dc75-4a5b-b0f2-77fb3b051e4d",
   "metadata": {},
   "source": [
    "<font color=\"blue\">First we'll name the variable as an object. To what variables you have to choose from you can view the samples table column names:</font>"
   ]
  },
  {
   "cell_type": "code",
   "execution_count": null,
   "id": "77c56728-31ac-4c90-906c-2d82bb48b1ed",
   "metadata": {},
   "outputs": [],
   "source": [
    "colnames(samples_table)"
   ]
  },
  {
   "cell_type": "markdown",
   "id": "e1b0f36b-d1be-4b45-a1e4-06eb0ffdf665",
   "metadata": {},
   "source": [
    "<font color=\"blue\">Add the name of one of these to the code cell below (e.g. `group2 <- \"Animal\"`). If you don't want to include a second variable, leave the code cell below as `group2 <- NULL`</font>"
   ]
  },
  {
   "cell_type": "code",
   "execution_count": null,
   "id": "7feddcb4-9d26-435e-a74c-c3d6f80e9538",
   "metadata": {},
   "outputs": [],
   "source": [
    "group2 <- NULL"
   ]
  },
  {
   "cell_type": "markdown",
   "id": "c04a7524-c61a-4102-809e-e27ec1ffb903",
   "metadata": {},
   "source": [
    "Now create the PCoA plot."
   ]
  },
  {
   "cell_type": "code",
   "execution_count": null,
   "id": "40f62dfd-101a-4651-a9d7-0ad387434eb6",
   "metadata": {},
   "outputs": [],
   "source": [
    "p <- amp_ordinate(ampvisdata, type = \"pcoa\", filter_species = 0, transform = \"none\", sample_label_by = 'sample_id', distmeasure = index, sample_color_by = group, sample_shape_by = group2, sample_point_size = 3, sample_colorframe = TRUE) + \n",
    "scale_color_manual(values=c25) + \n",
    "scale_fill_manual(values=c25) + \n",
    "theme(text = element_text(size = 18))\n",
    "p"
   ]
  },
  {
   "cell_type": "markdown",
   "id": "2708d10d-acfb-48b0-bc87-d047b1966cd3",
   "metadata": {},
   "source": [
    "You can save your plot as a 300dpi (i.e. publication quality) tiff or pdf file. **These files can be found in your working directory.**\n",
    "\n",
    "**Tip:** you can adjust the width and height of the saved images by changing `width =` and `height =` in the code below (and every time ggsave appears in this workflow). Pdf files can be opened within Jupyter, so a good way to test a suitable width/height would be to save the image by running the pdf code below with the default 20cm width/height, then open the pdf file by clicking on it in the file browser panel (to the left of this notebook), then change the width/height and repeat this process as needed."
   ]
  },
  {
   "cell_type": "markdown",
   "id": "2195b3d8-d839-42b8-b7df-d244c4b55366",
   "metadata": {},
   "source": [
    "Export as a 300dpi tiff"
   ]
  },
  {
   "cell_type": "code",
   "execution_count": null,
   "id": "3783ea15-13c4-4806-936d-e3b754ea1aa7",
   "metadata": {},
   "outputs": [],
   "source": [
    "tiff_exp <- paste0(\"PCoA_beta_div_\", group, \"_\", index, \".tiff\")\n",
    "ggsave(file = tiff_exp, dpi = 300, compression = \"lzw\", device = \"tiff\", plot = p, width = 20, height = 20, units = \"cm\")"
   ]
  },
  {
   "cell_type": "markdown",
   "id": "0d8f6d47-e1dd-4a4c-a06b-564a68f0df9b",
   "metadata": {},
   "source": [
    "Export as a pdf"
   ]
  },
  {
   "cell_type": "code",
   "execution_count": null,
   "id": "d2b84b7f-6262-44c7-a54b-090e5756a913",
   "metadata": {},
   "outputs": [],
   "source": [
    "pdf_exp <- paste0(\"PCoA_beta_div_\", group, \"_\", index, \".pdf\")\n",
    "ggsave(file = pdf_exp, device = \"pdf\", plot = p, width = 20, height = 20, units = \"cm\")"
   ]
  },
  {
   "cell_type": "markdown",
   "id": "e426defd-ab24-40ee-a409-932039343c8b",
   "metadata": {},
   "source": [
    "### Statistical analysis"
   ]
  },
  {
   "cell_type": "markdown",
   "id": "fb70e2a3-0ca8-40a3-93fe-82919a31a2f1",
   "metadata": {},
   "source": [
    "To compare the overall differences between groups within your chosen variable, a PERMANOVA test can be performed and similarly a pairwise PERMANOVA test can be performed to compare differences between each group."
   ]
  },
  {
   "cell_type": "markdown",
   "id": "058d72c5-da36-466e-b97d-5e8fd504b7e8",
   "metadata": {},
   "source": [
    "**PERMANOVA:**"
   ]
  },
  {
   "cell_type": "code",
   "execution_count": null,
   "id": "9434f831-21bd-446b-a0f3-cbfcebb51ed9",
   "metadata": {},
   "outputs": [],
   "source": [
    "# Need to remove rows (from ASV abundance table) with all 0 counts first\n",
    "asvmatrix <- ampvisdata$abund\n",
    "asvmatrix <- asvmatrix[rowSums(asvmatrix) > 0, ]\n",
    "# Also need to transpose (samples need to be as rows, asv's as columns)\n",
    "asvmatrix <- t(asvmatrix)\n",
    "# Then generate pairwise distance matrix\n",
    "sampdist <- vegdist(asvmatrix, method=\"bray\")\n",
    "# Use adonis function (vegan package: \"Permutational Multivariate Analysis of Variance Using Distance Matrices\") to run PERMANOVA on distances\n",
    "pathotype.adonis <- adonis2(sampdist ~ get(group), data = samples_table)\n",
    "# Output the r squared and p values as variables\n",
    "r2 <- pathotype.adonis$R2[1]\n",
    "pval <- pathotype.adonis$`Pr(>F)`[1]"
   ]
  },
  {
   "cell_type": "markdown",
   "id": "7bbee5ff-7776-4cd4-b3a3-30e1b4afb7a8",
   "metadata": {},
   "source": [
    "PERMANOVA R squared ="
   ]
  },
  {
   "cell_type": "code",
   "execution_count": null,
   "id": "ca47fc5a-c234-4dd8-beb8-1da3abe19e01",
   "metadata": {},
   "outputs": [],
   "source": [
    "round(r2, 2)"
   ]
  },
  {
   "cell_type": "markdown",
   "id": "7ac4b76d-675a-4d38-b7e4-389d73e02dcd",
   "metadata": {},
   "source": [
    "PERMANOVA significance (p) ="
   ]
  },
  {
   "cell_type": "code",
   "execution_count": null,
   "id": "bef6b3b4-e8da-4c09-a515-d9784348cbbb",
   "metadata": {},
   "outputs": [],
   "source": [
    "pval"
   ]
  },
  {
   "cell_type": "markdown",
   "id": "133bc3b3-d71a-4d0f-aa84-6dda34974fee",
   "metadata": {},
   "source": [
    "**Pairwise PERMANOVA:**"
   ]
  },
  {
   "cell_type": "markdown",
   "id": "9f2f8493-3af5-4cbf-b231-1f54bebb6039",
   "metadata": {},
   "source": [
    "Calculate the pairwise PERMANOVA. This is a bit complex, as each group within the variable has to be compared to each other group in a variety of ways. Code comments (#) explain what each line of code does."
   ]
  },
  {
   "cell_type": "code",
   "execution_count": null,
   "id": "10452bc7-4960-4542-88ff-966a347da9a7",
   "metadata": {},
   "outputs": [],
   "source": [
    "# The combn function creates every combination of provided elements\n",
    "# Below it takes all group names and combines them pairwise (2)\n",
    "# Creates a matrix where each column = a combination\n",
    "comb_pair <- data.frame(combn(unique(samples_table[[group]]),2))\n",
    "# Convert scores to relative abundance\n",
    "# Use sweep function to divide (\"/\") each column (2) by its total (colSums)\n",
    "comm <- sweep(ampvisdata$abund,2,colSums(ampvisdata$abund),\"/\")\n",
    "# Using adonis function (vegan package: \"Permutational Multivariate Analysis of Variance Using Distance Matrices\")\n",
    "tabstat_adonis <- c()\n",
    "# Loop through each pair (i.e. column in 'comb_pair')\n",
    "for (i in 1:ncol(comb_pair)) {\n",
    "  # Pull out pair data\n",
    "  # From samples table\n",
    "  samples_table_SB_pair <- samples_table[samples_table[[group]] %in% comb_pair[[i]], ]\n",
    "  # From ASV matrix\n",
    "  asvmatrix_pair <- comm[samples_table_SB_pair$sample.id]\n",
    "  # Transpose\n",
    "  asvmatrix_pair <- asvmatrix_pair[rowSums(asvmatrix_pair) > 0, ]\n",
    "  # Also need to transpose (samples need to be as rows, asv's as columns)\n",
    "  asvmatrix_pair <- t(asvmatrix_pair)\n",
    "  # Then generate pairwise distance matrix\n",
    "  sampdist_pair <- vegdist(asvmatrix_pair, method=\"bray\")\n",
    "  # Use anosim (vegan): Analysis of Similarities\n",
    "  x2 <- adonis2(sampdist_pair ~ get(group), data = samples_table_SB_pair)\n",
    "  # Pull out just r squared and p value\n",
    "  r2_adonis <- x2$R2[1]\n",
    "  pval_adonis <- x2$`Pr(>F)`[1]\n",
    "  # Combine into data frame\n",
    "  tabstat_adonis <- cbind(tabstat_adonis, c(r2_adonis, pval_adonis))\n",
    "  # Name vector with group combinations\n",
    "  colnames(tabstat_adonis)[i] <- paste(comb_pair[[i]], collapse=' Vs ')\n",
    "}\n",
    "row.names(tabstat_adonis) <- c(\"R squared\", \"p\")"
   ]
  },
  {
   "cell_type": "markdown",
   "id": "1253dc0d-3235-48fe-bc1d-feb89dac13a2",
   "metadata": {},
   "source": [
    "Now output these results as a table."
   ]
  },
  {
   "cell_type": "code",
   "execution_count": null,
   "id": "f203c0a0-0084-422e-a010-e707b968d9aa",
   "metadata": {},
   "outputs": [],
   "source": [
    "tabstat_adonis <- t(tabstat_adonis)\n",
    "tabstat_adonis <- data.frame(tabstat_adonis)\n",
    "tabstat_adonis"
   ]
  },
  {
   "cell_type": "markdown",
   "id": "c289b4f7-2759-45e8-9d74-e7d6bc7dc63d",
   "metadata": {},
   "source": [
    "You can export this table as a csv file:"
   ]
  },
  {
   "cell_type": "code",
   "execution_count": null,
   "id": "61d5d6bf-23cb-4a99-9c6e-c7ddd37e42e2",
   "metadata": {},
   "outputs": [],
   "source": [
    "write_csv(tabstat_adonis, paste0(\"beta_div_pairwise_PERMANOVA\", group, \"_\", index, \"_.csv\"))"
   ]
  },
  {
   "cell_type": "markdown",
   "id": "8d7bc32c-136a-479a-8655-0b6b71cca2a8",
   "metadata": {},
   "source": [
    "***********************************"
   ]
  },
  {
   "cell_type": "markdown",
   "id": "9068ea7b-1417-4592-a1ff-ab9b57d2e694",
   "metadata": {
    "tags": []
   },
   "source": [
    "## 6. PCoA plots - continuous variables <a class=\"anchor\" id=\"contana\"></a>"
   ]
  },
  {
   "cell_type": "markdown",
   "id": "c225045e-75ed-46d5-bd41-2d87cfbd7098",
   "metadata": {},
   "source": [
    "**NOTE:** PERMANOVA scores aren't generated for continuous variables as PERMANOVA depends on groupwise comparisons. For statistics of continuous variables, it's recommended that you use the Alpha diversity correlation and GLM statistics."
   ]
  },
  {
   "cell_type": "markdown",
   "id": "38cd7e66-b636-446e-9d30-01614ad4cd84",
   "metadata": {},
   "source": [
    "To refresh your memory regarding which variables exist and which are categorical or continuous, have a look at the first few rows of the samples table:"
   ]
  },
  {
   "cell_type": "code",
   "execution_count": null,
   "id": "fae367e5-29e3-4553-9d68-12285c0df34a",
   "metadata": {},
   "outputs": [],
   "source": [
    "head(samples_table)"
   ]
  },
  {
   "cell_type": "markdown",
   "id": "9fb32cbe-284c-4f93-b473-6ef09f226d4c",
   "metadata": {},
   "source": [
    "Now choose the continuous variable you want to analyse."
   ]
  },
  {
   "cell_type": "markdown",
   "id": "8e5ac964-b0c5-4638-ab02-8fc247b0537a",
   "metadata": {},
   "source": [
    "Enter the column name of the continuous variable you want to analyse (i.e. change `group <- \"Myvariable\"` in the below cell to your chosen variable's column name). This has to be exactly the same as the column name, including capitalisation, characters such as underscores, etc:"
   ]
  },
  {
   "cell_type": "code",
   "execution_count": null,
   "id": "f3b35cde-ca32-4fed-8cc7-93ced0632c1c",
   "metadata": {},
   "outputs": [],
   "source": [
    "group <- \"Dummy3\""
   ]
  },
  {
   "cell_type": "markdown",
   "id": "a9d321d5-f3b1-4cde-9cd8-5b1077cebbf6",
   "metadata": {},
   "source": [
    "The code to generate the PCoA plot for a continuous variable is very similar to the previous categorical variable PCoA, with a few minor differences."
   ]
  },
  {
   "cell_type": "markdown",
   "id": "e0fb2072-1b15-4ee8-8d2d-0158df1363ae",
   "metadata": {},
   "source": [
    "Again, choose the ordination method you want to use to estimate and plot beta diversity. Bray–Curtis dissimilarity is used by default (`\"bray\"`) Change this to `\"cao\"` for Cao index, or `\"jaccard\"` for Jaccard similarity index."
   ]
  },
  {
   "cell_type": "code",
   "execution_count": null,
   "id": "b9c156df-6fc8-4836-ab03-6520f46e1c1a",
   "metadata": {
    "tags": []
   },
   "outputs": [],
   "source": [
    "index <- \"bray\""
   ]
  },
  {
   "cell_type": "markdown",
   "id": "e17f6a80-3f5f-4949-b975-326e58dcc757",
   "metadata": {},
   "source": [
    "<font color=\"blue\">**Optional** You can include a second categorical variable in the plot using different point shapes. The initial variable is differentiated by colour, which can be seen in the below plot code with the `sample_color_by =` parameter. You can add the second variable to the `sample_shape_by =` argument.</font>"
   ]
  },
  {
   "cell_type": "markdown",
   "id": "886e8940-b172-4bd4-9494-af422ce34ae4",
   "metadata": {},
   "source": [
    "<font color=\"blue\">First we'll name the variable as an object. To what variables you have to choose from you can view the samples table column names:</font>"
   ]
  },
  {
   "cell_type": "code",
   "execution_count": null,
   "id": "164cbdac-bb15-407d-929f-29c0ecf7db35",
   "metadata": {},
   "outputs": [],
   "source": [
    "colnames(samples_table)"
   ]
  },
  {
   "cell_type": "markdown",
   "id": "3ec7884f-863b-44f2-b5fd-bad414a2afeb",
   "metadata": {},
   "source": [
    "<font color=\"blue\">Add the name of one of these to the code cell below (e.g. `group2 <- \"Animal\"`). If you don't want to include a second variable, leave the code cell below as `group2 <- NULL`</font>"
   ]
  },
  {
   "cell_type": "code",
   "execution_count": null,
   "id": "4836d59e-5043-4bb1-ac33-56cf036c153f",
   "metadata": {},
   "outputs": [],
   "source": [
    "group2 <- NULL"
   ]
  },
  {
   "cell_type": "markdown",
   "id": "7fbb9abb-da29-427c-ae4c-cdd3e2030bbd",
   "metadata": {},
   "source": [
    "Now create the PCoA plot."
   ]
  },
  {
   "cell_type": "code",
   "execution_count": null,
   "id": "fb41e297-1cfb-4873-9f87-b3a86539777f",
   "metadata": {},
   "outputs": [],
   "source": [
    "p <- amp_ordinate(ampvisdata, type = \"pcoa\", filter_species = 0, transform = \"none\", distmeasure = index, sample_color_by = group, sample_shape_by = group2, sample_point_size = 4) + \n",
    "scale_color_viridis() + \n",
    "theme(text = element_text(size = 18))\n",
    "p"
   ]
  },
  {
   "cell_type": "markdown",
   "id": "08ede44c-75cb-4f2b-ac43-3ef0f9bf4fd4",
   "metadata": {},
   "source": [
    "You can save your plot as a 300dpi (i.e. publication quality) tiff or pdf file. **These files can be found in your working directory.**"
   ]
  },
  {
   "cell_type": "markdown",
   "id": "3f9e713d-26ef-461c-b4af-1d4337c7029f",
   "metadata": {},
   "source": [
    "Export as a 300dpi tiff"
   ]
  },
  {
   "cell_type": "code",
   "execution_count": null,
   "id": "782d58e8-11a1-4b7a-8a99-856378fa230f",
   "metadata": {},
   "outputs": [],
   "source": [
    "tiff_exp <- paste0(\"beta_div_PCoA_\", group, \"_\", index, \".tiff\")\n",
    "ggsave(file = tiff_exp, dpi = 300, compression = \"lzw\", device = \"tiff\", plot = p, width = 20, height = 20, units = \"cm\")"
   ]
  },
  {
   "cell_type": "markdown",
   "id": "9b4a5bcc-a30a-4d1d-b8a3-537e23e61b87",
   "metadata": {},
   "source": [
    "Export as a pdf"
   ]
  },
  {
   "cell_type": "code",
   "execution_count": null,
   "id": "7d0ae2e1-4bf9-4c08-90ed-9aab67b44e90",
   "metadata": {},
   "outputs": [],
   "source": [
    "pdf_exp <- paste0(\"beta_div_PCoA_\", group, \"_\", index, \".pdf\")\n",
    "ggsave(file = pdf_exp, device = \"pdf\", plot = p, width = 20, height = 20, units = \"cm\")"
   ]
  },
  {
   "cell_type": "markdown",
   "id": "8dfdf42c-cf3e-47a8-a4c5-72d3ab3b5729",
   "metadata": {},
   "source": [
    "[Click here to go to the next section: 8. Community structure](./anacapa_8_CS.ipynb)"
   ]
  },
  {
   "cell_type": "code",
   "execution_count": null,
   "id": "17302467-0476-43a3-b6f4-eaeee922135b",
   "metadata": {},
   "outputs": [],
   "source": []
  }
 ],
 "metadata": {
  "kernelspec": {
   "display_name": "R",
   "language": "R",
   "name": "ir"
  },
  "language_info": {
   "codemirror_mode": "r",
   "file_extension": ".r",
   "mimetype": "text/x-r-source",
   "name": "R",
   "pygments_lexer": "r",
   "version": "4.1.3"
  }
 },
 "nbformat": 4,
 "nbformat_minor": 5
}
