{
 "cells": [
  {
   "cell_type": "markdown",
   "id": "9acec77c-c117-4cc8-a06d-d21be98bc07b",
   "metadata": {},
   "source": [
    "# 4. Filtering taxonomic assignments"
   ]
  },
  {
   "cell_type": "markdown",
   "id": "c39144ee-c0ef-44d4-840e-f390342211b2",
   "metadata": {},
   "source": [
    "****************************"
   ]
  },
  {
   "cell_type": "markdown",
   "id": "ef5a4892-c7be-496a-a786-d8e59b9d3293",
   "metadata": {},
   "source": [
    "## Section contents\n",
    "[1. Overview](#overview1)\n",
    "\n",
    "[2. Setting up your analysis environment](#envana1)\n",
    "\n",
    "[3. Importing your data](#dataana1)\n",
    "\n",
    "[4. Removing low abundance taxa](#lowana1)\n",
    "\n",
    "[5. Removing contaminant taxa](#contana1)\n",
    "\n",
    "[6. Filtering taxonomy assignments by confidence level](filtana1)\n",
    "\n",
    "[7. Examining filtered taxonomy assignments](#viewana1)\n",
    "\n",
    "[8. Exporting filtered results](#expana1)\n"
   ]
  },
  {
   "cell_type": "markdown",
   "id": "c3b2beb3-e040-4b7f-a2a8-c684803867fe",
   "metadata": {},
   "source": [
    "****************************"
   ]
  },
  {
   "cell_type": "markdown",
   "id": "a68d3234-acf0-4697-ac21-d174ed8510a3",
   "metadata": {},
   "source": [
    "## Overview <a class=\"anchor\" id=\"overview1\"></a>"
   ]
  },
  {
   "cell_type": "markdown",
   "id": "a52cfdfd-d8c0-4564-b200-0e7fdfe6c4f7",
   "metadata": {},
   "source": [
    "In this section we will remove 1) low abundance taxa, 2) contaminant and 3) low confidence taxa.\n",
    "\n",
    "**Low abundance taxa**\n",
    "\n",
    "Most of the assigned taxa will be based on a very small number of matching reads. These are almost certainly false-positives, due to sequencing errors, very low quantities of contaminant DNA (from the air, water), etc. We will filter out taxa that fall below a low read count threshold.\n",
    "\n",
    "**Contaminant taxa**\n",
    "\n",
    "There may be taxa in your dataset that you know are present due to contamination of your samples. One of the most common contaminants is human, but there could be others. For example, if you were collecting kangaroo faeces (in order to identify their diet) from a cattle field, you likely will find cattle in your sample. You also would find kangaroo DNA in your sample, which you also would want to remove that as a 'diet' taxa.\n",
    "\n",
    "**Taxonomy confidence**\n",
    "\n",
    "By default, Anacapa assigns taxonomy to ASVs using a [Bayesian Lowest Common Ancestor method (BLCA)](https://bmcbioinformatics.biomedcentral.com/articles/10.1186/s12859-017-1670-4). Each taxonomy assignment is given a confidence score that indicates the likely accuracy of the assignment. Every ASV is assigned to species level, but the confidence scores vary. Because of this, many of the lower taxonomic levels (family, genus, species) may have low confidence scores and therefore be an incorrect assignment. \n",
    "\n",
    "For example, you may have an ASV that has 86% confidence for the family level taxonomic assignment, 54% confidence at the genus level and 32% confidence at the species level. In this case you might say that you only have sufficient confidence in the family level assignment, but you think the genus and species level assignments are likely false positives."
   ]
  },
  {
   "cell_type": "markdown",
   "id": "75f28229-6541-45cd-a09f-01bbaa08d7ec",
   "metadata": {},
   "source": [
    "***********************************"
   ]
  },
  {
   "cell_type": "markdown",
   "id": "17e06ea9-ef56-40bb-ad65-9b9d4cb148b8",
   "metadata": {},
   "source": [
    "## 2. Setting up your analysis environment <a class=\"anchor\" id=\"envana1\"></a>"
   ]
  },
  {
   "cell_type": "markdown",
   "id": "0caa1a2f-e748-430b-86fd-814813a989ec",
   "metadata": {},
   "source": [
    "Before you can begin your analysis you need to set up certain requirements, such as setting your working directory and installing/loading required R packges."
   ]
  },
  {
   "cell_type": "markdown",
   "id": "682fac65-5840-4c40-9e58-726af0412fe6",
   "metadata": {},
   "source": [
    "Choose your working directory (should just be called 'anacapa', if you followed the previous sections)."
   ]
  },
  {
   "cell_type": "code",
   "execution_count": null,
   "id": "e64294bc-1a28-4c5f-a816-782b04274078",
   "metadata": {},
   "outputs": [],
   "source": [
    "setwd(\"~/anacapa\")"
   ]
  },
  {
   "cell_type": "markdown",
   "id": "a5b55e6b-013c-4cbe-8bdb-54d7dfb54b45",
   "metadata": {},
   "source": [
    "R can tell you what working directory you're currently in using the getwd() function:"
   ]
  },
  {
   "cell_type": "code",
   "execution_count": null,
   "id": "518d2cad-67fe-4c3d-a567-1ccc9829731d",
   "metadata": {},
   "outputs": [],
   "source": [
    "getwd()"
   ]
  },
  {
   "cell_type": "markdown",
   "id": "2825e85f-acf7-4d82-9c4f-a798fa9a4bfa",
   "metadata": {},
   "source": [
    "You can see what is in this directory by running the dir function. You should see your ASV table (outout from anacapa) and your samples table should be here:"
   ]
  },
  {
   "cell_type": "code",
   "execution_count": null,
   "id": "d55eec3d-cfd5-4b7a-984f-0db3604982b6",
   "metadata": {},
   "outputs": [],
   "source": [
    "dir()"
   ]
  },
  {
   "cell_type": "markdown",
   "id": "c3c088be-94c7-4ce7-9b10-2ecfe502a9ac",
   "metadata": {},
   "source": [
    "### Install the required R packages"
   ]
  },
  {
   "cell_type": "markdown",
   "id": "851f86c0-306b-4aff-9d9b-720ac141fe68",
   "metadata": {},
   "source": [
    "R does most of its analysis using [functions](https://www.tutorialspoint.com/r/r_functions.htm). Some of these are built into base R, but many come as external [packages](https://r-pkgs.org/intro.html), which need to be installed and loaded into R."
   ]
  },
  {
   "cell_type": "markdown",
   "id": "5e99f139-8b14-4776-9986-829ffd82a2a0",
   "metadata": {},
   "source": [
    "Load any required packages that have previously been installed using the [library()](https://www.tutorialspoint.com/r/r_packages.htm) function:"
   ]
  },
  {
   "cell_type": "code",
   "execution_count": null,
   "id": "fcf057f8-814f-4e30-bbba-756663360a44",
   "metadata": {},
   "outputs": [],
   "source": [
    "library(tidyverse)\n",
    "library(scales)\n",
    "library(DT)\n",
    "library(ggpubr)"
   ]
  },
  {
   "cell_type": "markdown",
   "id": "91e28aa4-afaf-47a2-9377-c7585da9d54a",
   "metadata": {},
   "source": [
    "Other packages need to be installed first."
   ]
  },
  {
   "cell_type": "markdown",
   "id": "96de2e55-5df2-49ab-96c2-b2058c78b74c",
   "metadata": {},
   "source": [
    "The key R analysis package used was ampvis2 (['Tools for visualising amplicon data'](https://madsalbertsen.github.io/ampvis2/)). Results from anacapa (ASV tables, taxonomy assignment, etc) is used as input for ampvis2 in this notebook. Install and load ampvis2 (this will take a few minutes as there are multiple dependent packages installed):"
   ]
  },
  {
   "cell_type": "code",
   "execution_count": null,
   "id": "a0eb54c2-1d37-4ebd-9cd5-b7f0ad64e435",
   "metadata": {},
   "outputs": [],
   "source": [
    "install.packages(\"remotes\", verbose = F)\n",
    "remotes::install_github(\"MadsAlbertsen/ampvis2\", quiet = T)\n",
    "library(ampvis2)"
   ]
  },
  {
   "cell_type": "markdown",
   "id": "de5c5003-f20c-4b12-a9c7-f76dcc88216b",
   "metadata": {},
   "source": [
    "Set the default width and height for plots output on this Notebook. You can modify this as you prefer. Note that every plot in this Notebook is followed by code to output it as a file and this code defines width/height separately from the options below."
   ]
  },
  {
   "cell_type": "code",
   "execution_count": null,
   "id": "4443815a-0158-4215-960b-74d72f379463",
   "metadata": {},
   "outputs": [],
   "source": [
    "options(repr.plot.width=12, repr.plot.height=8)"
   ]
  },
  {
   "cell_type": "markdown",
   "id": "0d1964b1-2114-4d59-bd2f-a0874accd563",
   "metadata": {},
   "source": [
    "****************************"
   ]
  },
  {
   "cell_type": "markdown",
   "id": "06953fa7-a99c-4ff3-bf1f-898222735612",
   "metadata": {},
   "source": [
    "## 3. Importing your data <a class=\"anchor\" id=\"dataana1\"></a>"
   ]
  },
  {
   "cell_type": "markdown",
   "id": "5d2f59c4-f302-48e4-bc11-05dd13ea0981",
   "metadata": {},
   "source": [
    "Anacapa outputs an ASV abundance table (read counts per sample per ASV) that also contains taxonomy assignmnents and taxonomy confidence scores in separate columns. So to filter your taxonomy assignmnents by a confidence threshhold, you first need to import your ASV table, then separate out the taxonomy data (assignments and confidence), then finally filter the taxonomy assignmnents based on the confidence data."
   ]
  },
  {
   "cell_type": "markdown",
   "id": "1dc81f64-67da-4d3f-9cd4-b1c1d5acb3f2",
   "metadata": {},
   "source": [
    "### Import the samples table"
   ]
  },
  {
   "cell_type": "markdown",
   "id": "84af8c95-facd-4e73-b4a3-b5000a354349",
   "metadata": {},
   "source": [
    "First import your samples table. This is not needed for filtration, but is used later when comparing pre and post filtration results."
   ]
  },
  {
   "cell_type": "markdown",
   "id": "abe5bfed-8ec3-4859-90fc-47c5b8af2557",
   "metadata": {},
   "source": [
    "This samples table contains information on your samples and variables. We need to import this from a file to run our analysis on selected variables.\n",
    "\n",
    "This needs to be in the form of a csv file named 'sample_table.csv'. It also needs to have the sample IDs in the first column (these need to be the same as the column names in the ASV table you import below) as a minimum. Then any additional columns can have other variable information (i.e. metadata) that is available for your samples (e.g. location collected, sex, size, etc, etc). You can create, save and modify this file to be in the correct structure in Excel before you start this analysis."
   ]
  },
  {
   "cell_type": "code",
   "execution_count": null,
   "id": "d392e1f9-7560-43f7-8c52-878e5f0c3924",
   "metadata": {},
   "outputs": [],
   "source": [
    "samples_table <- read.csv(\"sample_table.csv\", header = T)"
   ]
  },
  {
   "cell_type": "markdown",
   "id": "02a0a637-43bf-4d41-9569-a2505b7dc030",
   "metadata": {},
   "source": [
    "You can view your samples table:"
   ]
  },
  {
   "cell_type": "code",
   "execution_count": null,
   "id": "4409f154-3642-48be-a7cf-fed744af83c2",
   "metadata": {},
   "outputs": [],
   "source": [
    "samples_table"
   ]
  },
  {
   "cell_type": "markdown",
   "id": "1b3fa3f5-6670-4116-bf94-85eb13dd201c",
   "metadata": {},
   "source": [
    "### Import the ASV abundance table"
   ]
  },
  {
   "cell_type": "markdown",
   "id": "e776b909-e865-432e-bd14-b4a3639e4818",
   "metadata": {},
   "source": [
    "Now, provide an ID for your project. This is the 'xxxx' in your 'xxxx_ASV_taxonomy_brief.txt' file. See the previous section for details."
   ]
  },
  {
   "cell_type": "code",
   "execution_count": null,
   "id": "caf19376-464c-4bf9-88d8-5c39647a6907",
   "metadata": {},
   "outputs": [],
   "source": [
    "project_id <- \"rbcl\""
   ]
  },
  {
   "cell_type": "markdown",
   "id": "75b0e084-416d-4b0c-9730-5e4292d85449",
   "metadata": {},
   "source": [
    "Import the abundance table into R:"
   ]
  },
  {
   "cell_type": "code",
   "execution_count": null,
   "id": "f596d8ac-005a-44f4-bb20-d092990b3194",
   "metadata": {},
   "outputs": [],
   "source": [
    "asvtable <- read.table(paste0(\"./\" , project_id, \"_ASV_taxonomy_brief.txt\"), check.names = FALSE, sep = \"\\t\", stringsAsFactors = FALSE, comment.char = \"\", header = T)\n",
    "colnames(asvtable)[1] <- \"ASV\""
   ]
  },
  {
   "cell_type": "markdown",
   "id": "70db029b-dcbd-4026-a840-4d5eb4007269",
   "metadata": {},
   "source": [
    "<mark><font color=\"red\">Pia, I'm also removing some repeated text from your sample names, as they appear on the ASV table (named after the fastq files). This is specififc to your owl test dataset only and won't work on other datasets:</font></mark>\n",
    "    \n",
    "<mark><font color=\"red\">Dataset1:</font></mark>"
   ]
  },
  {
   "cell_type": "code",
   "execution_count": null,
   "id": "4cbd2d53-5ea9-430f-bca6-552fe00d21b8",
   "metadata": {},
   "outputs": [],
   "source": [
    "colnames(asvtable) <- gsub(\"X16Smam_Pia357NanoTest\", \"\", colnames(asvtable))\n",
    "colnames(asvtable) <- gsub(\".L001\", \"\", colnames(asvtable))"
   ]
  },
  {
   "cell_type": "markdown",
   "id": "f9ca4975-b6d9-4a71-8dcf-f5770d962f62",
   "metadata": {},
   "source": [
    "<mark><font color=\"red\">\n",
    "Dataset2:</font></mark>"
   ]
  },
  {
   "cell_type": "code",
   "execution_count": null,
   "id": "bf3c89af-dbb6-4c32-9558-8b2c4365754a",
   "metadata": {},
   "outputs": [],
   "source": [
    "colnames(asvtable) <- gsub(\"cytbvert_\", \"\", colnames(asvtable))\n",
    "colnames(asvtable) <- gsub(\".L001\", \"\", colnames(asvtable))"
   ]
  },
  {
   "cell_type": "markdown",
   "id": "64386119-a7b0-47de-baa7-b8b2434b896b",
   "metadata": {},
   "source": [
    "<mark><font color=\"red\">\n",
    "Plant data:</font></mark>"
   ]
  },
  {
   "cell_type": "code",
   "execution_count": null,
   "id": "0e4af931-7a42-4145-8072-6141523a58f8",
   "metadata": {},
   "outputs": [],
   "source": [
    "colnames(asvtable) <- gsub(\"rbcl_\", \"\", colnames(asvtable))"
   ]
  },
  {
   "cell_type": "markdown",
   "id": "0f5a5927-7c56-451c-b9cf-45c956b2afc2",
   "metadata": {},
   "source": [
    "Have a look at the top few rows of the ASV table, to see if it looks right. The sample IDs should be the column names and the ASV IDs in the first column. All the other columns should contain numbers (i.e. the count of the number of times each ASV was found in each sample)."
   ]
  },
  {
   "cell_type": "code",
   "execution_count": null,
   "id": "d0bfa1fe-a393-4391-a787-ba4e41551006",
   "metadata": {},
   "outputs": [],
   "source": [
    "head(asvtable)"
   ]
  },
  {
   "cell_type": "markdown",
   "id": "af9d0218-6975-4291-b74e-a512d3c085c5",
   "metadata": {},
   "source": [
    "### Create a taxonomy table"
   ]
  },
  {
   "cell_type": "markdown",
   "id": "8eb023f4-3dc1-4f0c-b214-23220ba1141c",
   "metadata": {},
   "source": [
    "The taxonomy data (both taxonomic assignments and confidence scores) is already in the anacapa ASV taxonomy file. We just need to put this in a separate object and in the correct format for Apmvis2 (the primary R package we're using for downstream analysis). This allows each ASV to be assigned taxonomy by ampvis2."
   ]
  },
  {
   "cell_type": "code",
   "execution_count": null,
   "id": "58b769d5-0afd-47d1-8892-9172bce5571b",
   "metadata": {},
   "outputs": [],
   "source": [
    "# Import taxonomy table from ASV table as separate object\n",
    "mytax <- data.frame(asvtable$taxonomy)\n",
    "# Split taxa into separate columns. Taxa are separated by \";\"\n",
    "mytaxsplit <- tidyr::separate(data = mytax, col = asvtable.taxonomy, into = c(\"Kingdom\", \"Phylum\", \"Class\", \"Order\", \"Family\", \"Genus\", \"Species\"), sep = \";\")"
   ]
  },
  {
   "cell_type": "markdown",
   "id": "e06a30ea-f677-4b6b-a23a-ec176a30561f",
   "metadata": {},
   "source": [
    "The taxonomy assignments from anacapa are prefaced by the taxonomy name `Phylum`, `Class` etc but ampvis2 expects taxonomy assignments to be prefaced by `p_`, `c_`, etc. So we need to convert the assignment names."
   ]
  },
  {
   "cell_type": "code",
   "execution_count": null,
   "id": "5329a07b-50a2-40c2-8ca2-ef721783e58e",
   "metadata": {},
   "outputs": [],
   "source": [
    "mytaxsplit$Kingdom <- gsub(\"superkingdom:\", \"k__\", mytaxsplit$Kingdom)\n",
    "mytaxsplit$Phylum <- gsub(\"phylum:\", \"p__\", mytaxsplit$Phylum)\n",
    "mytaxsplit$Class <- gsub(\"class:\", \"c__\", mytaxsplit$Class)\n",
    "mytaxsplit$Order <- gsub(\"order:\", \"o__\", mytaxsplit$Order)\n",
    "mytaxsplit$Family <- gsub(\"family:\", \"f__\", mytaxsplit$Family)\n",
    "mytaxsplit$Genus <- gsub(\"genus:\", \"g__\", mytaxsplit$Genus)\n",
    "mytaxsplit$Species <- gsub(\"species:\", \"s__\", mytaxsplit$Species)"
   ]
  },
  {
   "cell_type": "markdown",
   "id": "0ce3a434-9e9b-4c99-b696-f47657383975",
   "metadata": {},
   "source": [
    "Have a look at the first few rows of the taxonomy table. Each taxonomic level should be in its own column."
   ]
  },
  {
   "cell_type": "code",
   "execution_count": null,
   "id": "d0d32ff4-82cc-406f-9d3e-1d36e1b6280e",
   "metadata": {},
   "outputs": [],
   "source": [
    "head(mytaxsplit)\n",
    "# Also create a copy of the taxonomy and ASV tables, so can later compare pre and post-filtration results\n",
    "mytaxsplit_prefilt <- mytaxsplit\n",
    "asvtable_prefilt <- asvtable"
   ]
  },
  {
   "cell_type": "markdown",
   "id": "9e50d6f6-cc13-437e-bfc6-76d4d8bf8cef",
   "metadata": {},
   "source": [
    "************************************"
   ]
  },
  {
   "cell_type": "markdown",
   "id": "ccb2790e-aa9d-4109-b5de-93e8684b37e1",
   "metadata": {
    "tags": []
   },
   "source": [
    "## 4. Removing low abundance taxa <a class=\"anchor\" id=\"lowana1\"></a>"
   ]
  },
  {
   "cell_type": "markdown",
   "id": "41a04c3d-81da-47cf-b2f6-83ebd3b4de47",
   "metadata": {},
   "source": [
    "In any dataset there will be a majority of very low abundance taxa assignments that are false positives. This is due to a variety of reasons, such as the inherent (but very low) error rate in Illumina sequencing - for example if 1 in 10,000 sequences has a single base pair error, then these minority of sequences may match an incorrect taxa. There is also minor contamination from air, water, soil etc. Even a miniscule amount of contaminant DNA will be present in the dataset, though, again, usually as very low abundance taxa assignments.\n",
    "\n",
    "In this section we will remove the very low abundance taxa. The optimal filtration threshold here is somewhat dependant on individual dataset factors, such as total number of sequences, overall diversity and so on. You can confidently remove any taxa that has one or two read counts, but depending on your dataset you can increase this to a higher number. The default threahold we use here is 5 - i.e. any taxa with fewer than 5 reads in any sample will be filtered out."
   ]
  },
  {
   "cell_type": "markdown",
   "id": "9f986fa0-37ef-4219-8e95-12d14c14ab11",
   "metadata": {},
   "source": [
    "Have a look at your abundance table to decide on a reasonable abundance threshold."
   ]
  },
  {
   "cell_type": "code",
   "execution_count": null,
   "id": "db52a930-ee6c-40da-bca2-6c18c4d70b75",
   "metadata": {},
   "outputs": [],
   "source": [
    "asvtable_prefilt"
   ]
  },
  {
   "cell_type": "markdown",
   "id": "b0f0789d-20b7-4283-a814-2d906634191e",
   "metadata": {},
   "source": [
    "Select the minumum read count threshold you wish to filter by (or leave at the default of 5):"
   ]
  },
  {
   "cell_type": "code",
   "execution_count": null,
   "id": "7347ff2d-e0c9-44e9-b576-01d9a9a7d612",
   "metadata": {},
   "outputs": [],
   "source": [
    "minreads <- 5"
   ]
  },
  {
   "cell_type": "markdown",
   "id": "3c040265-8abd-437d-b19b-62e50e4f98b5",
   "metadata": {},
   "source": [
    "You can check how many taxa (ASVs) will be present before and after filtration by this threshold."
   ]
  },
  {
   "cell_type": "markdown",
   "id": "43d535a9-1a90-4548-987c-e5228c2978b4",
   "metadata": {},
   "source": [
    "Total number of (prefiltered) taxa:"
   ]
  },
  {
   "cell_type": "code",
   "execution_count": null,
   "id": "f3ce5a65-21f7-4c2f-8a23-e00a81f697d8",
   "metadata": {},
   "outputs": [],
   "source": [
    "nrow(asvtable_prefilt)"
   ]
  },
  {
   "cell_type": "markdown",
   "id": "fa6c9403-3bfb-4c86-9cf8-e639ad64b60b",
   "metadata": {},
   "source": [
    "Number of taxa present after filtration by the provided abundance threshold (default:5):"
   ]
  },
  {
   "cell_type": "code",
   "execution_count": null,
   "id": "81111cd2-ac06-4ea9-b698-fc82da5cdb81",
   "metadata": {},
   "outputs": [],
   "source": [
    "asvtable_thresh <- subset(asvtable, select=-c(ASV, taxonomy, taxonomy_confidence, accessions))\n",
    "asvtable_thresh_bool <- asvtable_thresh >= minreads\n",
    "sum(rowSums(asvtable_thresh_bool) > 0)"
   ]
  },
  {
   "cell_type": "markdown",
   "id": "f7d9c191-8b30-421a-a8b5-135c887e1233",
   "metadata": {},
   "source": [
    "Now we can do the actual filtration of taxa, based on the above abundance threshold:"
   ]
  },
  {
   "cell_type": "code",
   "execution_count": null,
   "id": "64bd24a7-a32d-4231-8942-841e8aa2f9aa",
   "metadata": {},
   "outputs": [],
   "source": [
    "asvtable <- asvtable[rowSums(asvtable_thresh_bool) > 0, ]\n",
    "# Taxonomy table must also be filtered by this threshold\n",
    "mytaxsplit <- mytaxsplit[rowSums(asvtable_thresh_bool) > 0, ]"
   ]
  },
  {
   "cell_type": "markdown",
   "id": "9c1c5e13-04d7-4ca4-adeb-a87373ef1bd6",
   "metadata": {},
   "source": [
    "You can now view the abundance-filtered table:"
   ]
  },
  {
   "cell_type": "code",
   "execution_count": null,
   "id": "807984b4-8e2d-49b4-9ea4-e578b9ce1dae",
   "metadata": {},
   "outputs": [],
   "source": [
    "asvtable"
   ]
  },
  {
   "cell_type": "markdown",
   "id": "7f30a0aa-83bf-4af3-a8f9-faafdd90fa27",
   "metadata": {},
   "source": [
    "************************************"
   ]
  },
  {
   "cell_type": "markdown",
   "id": "2770af31-9268-488d-b6c9-6a8371d40dbe",
   "metadata": {
    "tags": []
   },
   "source": [
    "## 5. Removing contaminant taxa <a class=\"anchor\" id=\"contana1\"></a>"
   ]
  },
  {
   "cell_type": "markdown",
   "id": "97056fe6-8d91-4ca7-b3f1-e5169792d089",
   "metadata": {},
   "source": [
    "In this section we will identify any contaminant genus or species in your dataset, then remove them. See the overview section for an explanation of contaminant taxa."
   ]
  },
  {
   "cell_type": "markdown",
   "id": "28b1b91b-0f3a-44ab-a5b5-0c4501fe075b",
   "metadata": {},
   "source": [
    "**If you don't find any contaminant taxa, you can skip this section**"
   ]
  },
  {
   "cell_type": "markdown",
   "id": "823e069a-0e4c-419d-8f08-4370204a6e63",
   "metadata": {},
   "source": [
    "### Finding contaminant taxa"
   ]
  },
  {
   "cell_type": "markdown",
   "id": "d1417ddc-4ec0-4000-926a-34c8350ab5e5",
   "metadata": {},
   "source": [
    "Have a look through your taxonomy table for any contaminant species. Note: filtration in this section is based on genus or species level only:"
   ]
  },
  {
   "cell_type": "code",
   "execution_count": null,
   "id": "0cc09155-2404-4243-82ca-6c31f3fd2799",
   "metadata": {},
   "outputs": [],
   "source": [
    "DT::datatable(mytaxsplit, rownames = F)"
   ]
  },
  {
   "cell_type": "markdown",
   "id": "1deda0b9-cba9-449d-bfb8-ab8fb714d596",
   "metadata": {},
   "source": [
    "Alternatively (if, for example, you have a very large number of taxa), you can search for taxa names using R."
   ]
  },
  {
   "cell_type": "markdown",
   "id": "747f420a-4cb7-4929-ae32-42e5deb42d86",
   "metadata": {},
   "source": [
    "Enter a genus or species name below (i.e. a possible contaminant species). You can change this as many times as you like to search for any and all potentially contaminant genus/species. "
   ]
  },
  {
   "cell_type": "code",
   "execution_count": null,
   "id": "0afce951-2dd1-4880-9674-3a382f8ecbd7",
   "metadata": {},
   "outputs": [],
   "source": [
    "is_contaminant <- \"Homo sapiens\""
   ]
  },
  {
   "cell_type": "markdown",
   "id": "79e1f35c-771a-45c4-88bd-e780be3c6ce3",
   "metadata": {},
   "source": [
    "Now search your taxa table for this name. The output is the number of ASVs that matched to this taxa."
   ]
  },
  {
   "cell_type": "code",
   "execution_count": null,
   "id": "d6508ea9-ff86-453b-9803-e89d83e48feb",
   "metadata": {},
   "outputs": [],
   "source": [
    "nrow(mytaxsplit[grepl(is_contaminant, mytaxsplit$Species),])"
   ]
  },
  {
   "cell_type": "markdown",
   "id": "ddc31b84-bfc5-40c1-8223-504567c294bd",
   "metadata": {},
   "source": [
    "### Removing contaminiant genus/species"
   ]
  },
  {
   "cell_type": "markdown",
   "id": "5a042159-4089-4042-b405-b80f2eaca454",
   "metadata": {},
   "source": [
    "Enter all of your contaminant genus/species names in the code cell below. Each species name must be separated by an upright line (on your keyboard, this is the key just above the 'enter' key usually). E.g. `\"Homo sapiens|Bos|Canis familiaris\"`. In this example we will filter out all humans, dog and any cattle (Bos genus) species. Remember, R is case-sensitive."
   ]
  },
  {
   "cell_type": "code",
   "execution_count": null,
   "id": "3ef75813-c06e-4fb9-9546-f40e5acd72b8",
   "metadata": {},
   "outputs": [],
   "source": [
    "contaminants <- \"Coleura afra|Bos|Canis\""
   ]
  },
  {
   "cell_type": "markdown",
   "id": "8b6d1f71-72aa-4129-927a-c6a59b064b86",
   "metadata": {},
   "source": [
    "Now we will identify which rows of your taxa table contain these species names, and remove them. The same rows need to be removed from your ASV abundance table too."
   ]
  },
  {
   "cell_type": "code",
   "execution_count": null,
   "id": "159d102a-27b4-4e56-8a2c-593a35bc377e",
   "metadata": {},
   "outputs": [],
   "source": [
    "asvtable <- asvtable[!grepl(contaminants, mytaxsplit$Species),]\n",
    "mytaxsplit <- mytaxsplit[!grepl(contaminants, mytaxsplit$Species),]"
   ]
  },
  {
   "cell_type": "markdown",
   "id": "6d50b98a-8b1b-4f02-b137-b4194b9ee74e",
   "metadata": {},
   "source": [
    "If you like, you can have another look at your taxa table, to see that the contaminant taxa have been removed:"
   ]
  },
  {
   "cell_type": "code",
   "execution_count": null,
   "id": "ad03cb90-dcc2-44ea-a02f-96df43dd2eaa",
   "metadata": {},
   "outputs": [],
   "source": [
    "DT::datatable(mytaxsplit, rownames = F)"
   ]
  },
  {
   "cell_type": "markdown",
   "id": "6b129894-baae-4194-8cc3-33f0840016c0",
   "metadata": {},
   "source": [
    "************************************"
   ]
  },
  {
   "cell_type": "markdown",
   "id": "8f54031d-4c31-4e04-b0f4-d33570467173",
   "metadata": {},
   "source": [
    "## 6. Filtering taxonomy assignments by confidence level <a class=\"anchor\" id=\"filtana1\"></a>"
   ]
  },
  {
   "cell_type": "markdown",
   "id": "842bd930-750c-40e0-a689-b65f70ad3c93",
   "metadata": {},
   "source": [
    "In this section you can examine the confidence levels for each taxonomic level, then filter out low confidence assignments. These filtered results can then be exported as a file, to be used in downstream analysis (i.e. the other sections of this report - alpha, beta diversity, etc). See the overview section for an explanation of confidence scores."
   ]
  },
  {
   "cell_type": "markdown",
   "id": "ac72265a-a838-426e-be2a-aa35947ed68e",
   "metadata": {},
   "source": [
    "As with the taxonomy assignments, the taxonomy confidence scores are in a separate column in the original Anacapa ASV file."
   ]
  },
  {
   "cell_type": "markdown",
   "id": "532e6ce0-af7c-4482-ae2b-6fcb3122ac46",
   "metadata": {},
   "source": [
    "First, extract the confidence scores. "
   ]
  },
  {
   "cell_type": "code",
   "execution_count": null,
   "id": "0f3a8a2f-719e-4035-b2f0-169a0399b35c",
   "metadata": {},
   "outputs": [],
   "source": [
    "# Import from ASV table as separate object\n",
    "myconf <- data.frame(asvtable$taxonomy_confidence)\n",
    "# Taxa are separated by \";\". Use this separator to put each taxa in its own column\n",
    "myconfsplit <- tidyr::separate(data = myconf, col = asvtable.taxonomy_confidence, into = c(\"Kingdom\", \"Phylum\", \"Class\", \"Order\", \"Family\", \"Genus\", \"Species\"), sep = \";\")"
   ]
  },
  {
   "cell_type": "markdown",
   "id": "423c6b0a-1db2-4e0c-b66e-e237fef99877",
   "metadata": {},
   "source": [
    "The confidence scores have some text attached to them (taxonomy names). Remove this and convert to numeric data."
   ]
  },
  {
   "cell_type": "code",
   "execution_count": null,
   "id": "188a6a71-f79f-4b71-aafc-c874123805f6",
   "metadata": {},
   "outputs": [],
   "source": [
    "# Remove superfluous text\n",
    "myconfsplit$Kingdom <- gsub(\"superkingdom:\", \"\", myconfsplit$Kingdom)\n",
    "myconfsplit$Phylum <- gsub(\"phylum:\", \"\", myconfsplit$Phylum)\n",
    "myconfsplit$Class <- gsub(\"class:\", \"\", myconfsplit$Class)\n",
    "myconfsplit$Order <- gsub(\"order:\", \"\", myconfsplit$Order)\n",
    "myconfsplit$Family <- gsub(\"family:\", \"\", myconfsplit$Family)\n",
    "myconfsplit$Genus <- gsub(\"genus:\", \"\", myconfsplit$Genus)\n",
    "myconfsplit$Species <- gsub(\"species:\", \"\", myconfsplit$Species)\n",
    "# Convert columns to numeric\n",
    "myconfsplit <- sapply(myconfsplit, as.numeric)\n",
    "# Need to convert any NAs to 0, else they won't be converted to boolean\n",
    "myconfsplit[is.na(myconfsplit)] <- 0"
   ]
  },
  {
   "cell_type": "markdown",
   "id": "f1d436fd-f594-449b-9282-0f926ff703ac",
   "metadata": {},
   "source": [
    "Now you should just see the confidence scores for each ASV (rows) and each taxonomic level (columns). The `head()` function simply displays the first 6 columns."
   ]
  },
  {
   "cell_type": "code",
   "execution_count": null,
   "id": "dd62c11a-2462-414e-980c-86eebbc0c80b",
   "metadata": {},
   "outputs": [],
   "source": [
    "head(mytaxsplit)"
   ]
  },
  {
   "cell_type": "markdown",
   "id": "1ebe4f72-3c37-4d09-9273-6e0851f69e26",
   "metadata": {},
   "source": [
    "Now we can filter by a confidence level of your choice."
   ]
  },
  {
   "cell_type": "markdown",
   "id": "a071659e-4623-41b8-9c1d-55aeaa214fdd",
   "metadata": {},
   "source": [
    "Select a confidence level (i.e. change the number in the code cell below. 85 = any taxa below 85% confidence will be removed). \n",
    "\n",
    "The confidence level you choose is dependent on the nature of your dataset. If you increase the level too high, you risk removing accurate taxonomy assignments, but too low you risk including false positives. You can experiment with different levels. For example, if you've set your level at 0.85 and you are seeing species that you know cannot be in your sample (e.g. from a different country) then you can adjust your score higher."
   ]
  },
  {
   "cell_type": "code",
   "execution_count": null,
   "id": "7839ca3f-99c4-4f9e-af97-ad35fce3e32a",
   "metadata": {},
   "outputs": [],
   "source": [
    "conf <- 85"
   ]
  },
  {
   "cell_type": "markdown",
   "id": "6e6300f3-d552-4bc0-b722-09649fe49740",
   "metadata": {},
   "source": [
    "Filter your data using this confidence level."
   ]
  },
  {
   "cell_type": "code",
   "execution_count": null,
   "id": "a712b22b-840d-49b1-aaee-50c064b7b0e4",
   "metadata": {},
   "outputs": [],
   "source": [
    "mytaxsplit[myconfsplit <= conf] <- NA"
   ]
  },
  {
   "cell_type": "markdown",
   "id": "43e46eb3-89c0-4712-8b78-48a88085bbb0",
   "metadata": {},
   "source": [
    "Any taxa that were below the confidence threshold will now be replaced by 'NA', which means they will be excluded from downstream analysis. You can view your entire filtered taxonomy table like so: "
   ]
  },
  {
   "cell_type": "code",
   "execution_count": null,
   "id": "d04b0721-e421-4049-8792-3fa1c955b9f8",
   "metadata": {},
   "outputs": [],
   "source": [
    "DT::datatable(mytaxsplit, rownames = F,\n",
    "              width = \"100%\",\n",
    "              extensions = 'Buttons',\n",
    "              options = list(scrollX = TRUE,\n",
    "                             dom = 'Bfrtip',\n",
    "                             columnDefs = list(list(className = 'dt-center', targets=\"_all\")),\n",
    "                             buttons =\n",
    "          list('copy', 'print', list(\n",
    "            extend = 'collection',\n",
    "            buttons = list(\n",
    "                list(extend = 'csv', filename = \"tax_table_filtered\"),\n",
    "                list(extend = 'excel', filename = \"tax_table_filtered\"),\n",
    "                list(extend = 'pdf', filename = \"tax_table_filtered\")),\n",
    "            text = 'Download'\n",
    "          ))\n",
    "      )\n",
    "    ) "
   ]
  },
  {
   "cell_type": "markdown",
   "id": "6eed0114-f946-45eb-8f9a-77afcd01743f",
   "metadata": {},
   "source": [
    "************************************"
   ]
  },
  {
   "cell_type": "markdown",
   "id": "0f8f110c-fdfa-458c-9a18-2b076056a093",
   "metadata": {},
   "source": [
    "## 7. Examining filtered taxonomy assignments <a class=\"anchor\" id=\"viewana1\"></a>"
   ]
  },
  {
   "cell_type": "markdown",
   "id": "8072ba66-bef6-4dcd-a3fe-c502f011fb4d",
   "metadata": {},
   "source": [
    "In this section we can quantify how many taxa passed filtration to each taxonomic level. You can use this section to validate your previous filtration choices. For example, if you see taxa that are still present that you know are contaminants, or you see legitimate taxa in your unfiltered table but removed in your filtered table, then you may want to re-run the filtration steps using different parameters. "
   ]
  },
  {
   "cell_type": "markdown",
   "id": "1325e464-3b9f-4c75-bd4b-5427d8badd84",
   "metadata": {},
   "source": [
    "First, combine the ASV table, taxonomy table and samples table into an ampvis2 object, for both pre-filtered and post-filtered data. Ampvis2 objects allow an examination of various statistics of the whole dataset."
   ]
  },
  {
   "cell_type": "markdown",
   "id": "bc63cbbe-2181-4796-9134-3e5d66665103",
   "metadata": {
    "tags": []
   },
   "source": [
    "Combine pre-filtered data:"
   ]
  },
  {
   "cell_type": "code",
   "execution_count": null,
   "id": "c85711a7-ac4b-49c4-9095-5d50efb1c363",
   "metadata": {},
   "outputs": [],
   "source": [
    "# Re-combine the ASV and taxonomy data\n",
    "asv_table_prefilt <- cbind(asvtable_prefilt, mytaxsplit_prefilt)\n",
    "# Also remove the Feature.ID and Confidence columns, as they are not needed\n",
    "asv_table_prefilt <- subset(asv_table_prefilt, select=-c(taxonomy, taxonomy_confidence, accessions))\n",
    "# Combine as an apmvis2 object, using the `amp_load` function\n",
    "ampvisdata_prefilt <- amp_load(otutable = asv_table_prefilt, metadata = samples_table)"
   ]
  },
  {
   "cell_type": "markdown",
   "id": "1ac0e9fc-b5e0-4614-8054-2f3f3b3a85c6",
   "metadata": {},
   "source": [
    "Combine post-filtered data:"
   ]
  },
  {
   "cell_type": "code",
   "execution_count": null,
   "id": "15c25e68-9ea7-417c-9c1b-6f05d1996040",
   "metadata": {},
   "outputs": [],
   "source": [
    "asv_table <- cbind(asvtable, mytaxsplit)\n",
    "asv_table <- subset(asv_table, select=-c(taxonomy, taxonomy_confidence, accessions))\n",
    "ampvisdata <- amp_load(otutable = asv_table, metadata = samples_table)"
   ]
  },
  {
   "cell_type": "markdown",
   "id": "578fd025-18d8-436d-9631-d6063ae29bcd",
   "metadata": {},
   "source": [
    "Now we can simply type the name of the ampvis2 objects to see a variety of information about the datasets."
   ]
  },
  {
   "cell_type": "markdown",
   "id": "3f56831a-7808-4c30-a8e0-5c4d3dcf8866",
   "metadata": {},
   "source": [
    "Let's look at the pre-filtered data first:"
   ]
  },
  {
   "cell_type": "code",
   "execution_count": null,
   "id": "604808fe-47de-469f-b20c-d0cf0da60085",
   "metadata": {},
   "outputs": [],
   "source": [
    "ampvisdata_prefilt"
   ]
  },
  {
   "cell_type": "markdown",
   "id": "eaaf1eae-910c-42e7-8a9b-8271d997f93b",
   "metadata": {},
   "source": [
    "Then the post-filtered results:"
   ]
  },
  {
   "cell_type": "code",
   "execution_count": null,
   "id": "1f9058ca-8226-4a95-848a-be5a94b1499b",
   "metadata": {},
   "outputs": [],
   "source": [
    "ampvisdata"
   ]
  },
  {
   "cell_type": "markdown",
   "id": "f507bbca-5625-4743-88d0-69d8a724f5cc",
   "metadata": {},
   "source": [
    "These show an overview of the number of ASVs (called 'OTUs' here) identified. Remember that an ASV indicates a specific taxonomic assignment, so if you have 200 ASVs here then, based on anacapa results (which annotates every ASV to species level), you have 200 taxa that identified to species level. However, often you will see the same species annotated to multiple ASVs. This is due to variations in the genomic databases for that species."
   ]
  },
  {
   "cell_type": "markdown",
   "id": "3a4ec7b8-58dc-4dd5-8de4-325103face1b",
   "metadata": {},
   "source": [
    "Bceause of this, the 200 species-level taxa may only represent far fewer actual species. We can see how many actual taxa there are, per taxonomic level, in the following subsections."
   ]
  },
  {
   "cell_type": "markdown",
   "id": "b619bc09-dd15-4347-9e97-a779d99782c9",
   "metadata": {},
   "source": [
    "### Phylum"
   ]
  },
  {
   "cell_type": "markdown",
   "id": "c19f8f77-108c-4172-b0d3-96215537ddf0",
   "metadata": {},
   "source": [
    "First we can see how many phyla were identified (this will probably be a single phyla, so the results won't look very interesting. Lower taxonomic levels will be more detailed).\n",
    "\n",
    "Pre-filtered first:"
   ]
  },
  {
   "cell_type": "code",
   "execution_count": null,
   "id": "4b4f799f-b262-46b7-9926-9ec629664798",
   "metadata": {},
   "outputs": [],
   "source": [
    "gsub(\"p__\", \"\", unique(mytaxsplit_prefilt$Phylum))"
   ]
  },
  {
   "cell_type": "markdown",
   "id": "b00deb14-6b4f-410d-97b2-026862bae52c",
   "metadata": {},
   "source": [
    "Number of ASVs that fall under each Phyla, pre-filtration"
   ]
  },
  {
   "cell_type": "code",
   "execution_count": null,
   "id": "46d24b8d-bdda-4fd1-b4e5-eea5d79435c5",
   "metadata": {},
   "outputs": [],
   "source": [
    "table(mytaxsplit_prefilt$Phylum)"
   ]
  },
  {
   "cell_type": "markdown",
   "id": "08eeffe6-f428-4bb4-bb89-6c876a880d53",
   "metadata": {},
   "source": [
    "Then post-filtered:"
   ]
  },
  {
   "cell_type": "code",
   "execution_count": null,
   "id": "a9d40cb6-0d0b-4df9-82ec-5c98594563d4",
   "metadata": {},
   "outputs": [],
   "source": [
    "gsub(\"p__\", \"\", unique(mytaxsplit$Phylum))"
   ]
  },
  {
   "cell_type": "markdown",
   "id": "8a92a930-9248-4539-8943-9960640133de",
   "metadata": {},
   "source": [
    "Number of ASVs that fall under each Phyla, post-filtration"
   ]
  },
  {
   "cell_type": "code",
   "execution_count": null,
   "id": "f4a601c0-eb54-48c3-bb38-adaf1b3566b0",
   "metadata": {},
   "outputs": [],
   "source": [
    "table(mytaxsplit$Phylum)"
   ]
  },
  {
   "cell_type": "markdown",
   "id": "ea41a660-08cf-44ea-82e4-e9d1c29250a9",
   "metadata": {},
   "source": [
    "Now we can plot the pre and post filtered phylum, to both see how many phylum there were/are (pre and post-filtration) and the number of ASVs that matched to each phylum."
   ]
  },
  {
   "cell_type": "code",
   "execution_count": null,
   "id": "bf5772c2-9719-43d4-855a-493f4d7bfba2",
   "metadata": {},
   "outputs": [],
   "source": [
    "p <- ggplot(as.data.frame(table(mytaxsplit_prefilt$Phylum)), aes(Var1, Freq, fill = Var1)) + \n",
    "  geom_bar(stat=\"identity\")\n",
    "p <- p + theme_bw() + ylab(\"Number of taxa\") + xlab(\"Taxa name\") + ggtitle(\"Pre-filtered\") + theme(legend.position=\"none\", text = element_text(size = 18))\n",
    "p2 <- ggplot(as.data.frame(table(mytaxsplit$Phylum)), aes(Var1, Freq, fill = Var1)) + \n",
    "  geom_bar(stat=\"identity\")\n",
    "p2 <- p2 + theme_bw() + ylab(\"Number of taxa\") + xlab(\"Taxa name\") + ggtitle(\"Post-filtered\") + theme(legend.position=\"none\", text = element_text(size = 18))"
   ]
  },
  {
   "cell_type": "code",
   "execution_count": null,
   "id": "ba91153c-ff7f-4fa2-a723-25012978ca28",
   "metadata": {},
   "outputs": [],
   "source": [
    "p3 <- ggarrange(p, p2)\n",
    "p3"
   ]
  },
  {
   "cell_type": "markdown",
   "id": "da232ecc-b640-4a43-9530-f3635c270468",
   "metadata": {},
   "source": [
    "### Exporting your plot as a file"
   ]
  },
  {
   "cell_type": "markdown",
   "id": "9339eb7c-58fb-4556-bfe3-f544299dd603",
   "metadata": {},
   "source": [
    "You can save your plot as a 300dpi (i.e. publication quality) tiff or pdf file. **These files can be found in your working directory.**\n",
    "\n",
    "**Tip:** you can adjust the width and height of the saved images by changing `width =` and `height =` in the code below (and every time ggsave appears in this workflow). Pdf files can be opened within Jupyter, so a good way to test a suitable width/height would be to save the image by running the pdf code below with the default 20cm width/height, then open the pdf file by clicking on it in the file browser panel (to the left of this notebook), then change the width/height and repeat this process as needed."
   ]
  },
  {
   "cell_type": "markdown",
   "id": "0cde598b-2dc2-42c9-a7b3-329494102dcb",
   "metadata": {},
   "source": [
    "Export as a 300dpi TIFF"
   ]
  },
  {
   "cell_type": "code",
   "execution_count": null,
   "id": "a9e334c9-92ef-4f6a-bcbd-d9fa95d12c72",
   "metadata": {},
   "outputs": [],
   "source": [
    "tiff_exp <- paste0(project_id, \"_pre_vs_postfiltration_phylum.tiff\")\n",
    "ggsave(file = tiff_exp, dpi = 300, compression = \"lzw\", device = \"tiff\", plot = p3, width = 20, height = 20, units = \"cm\")"
   ]
  },
  {
   "cell_type": "markdown",
   "id": "4f974609-7458-4e1c-945d-4fbb17bc1d8c",
   "metadata": {},
   "source": [
    "Export as a pdf"
   ]
  },
  {
   "cell_type": "code",
   "execution_count": null,
   "id": "cac09d72-1edc-47bd-8221-d97b3e57e0f7",
   "metadata": {},
   "outputs": [],
   "source": [
    "pdf_exp <- paste0(project_id, \"_pre_vs_postfiltration_phylum.pdf\")\n",
    "ggsave(file = pdf_exp, device = \"pdf\", plot = p3, width = 20, height = 20, units = \"cm\")"
   ]
  },
  {
   "cell_type": "markdown",
   "id": "eeab8297-778d-4856-8f50-e86734a3ff58",
   "metadata": {},
   "source": [
    "You can now find these files in your working directory (which you originally defined in the 'Setting up your analysis environment' section)."
   ]
  },
  {
   "cell_type": "markdown",
   "id": "f949b486-bb4e-4805-a08c-0930c997f9be",
   "metadata": {},
   "source": [
    "Tip: To see what your working directory is, use the getwd() command. This will be where you output the above images to."
   ]
  },
  {
   "cell_type": "code",
   "execution_count": null,
   "id": "7ab6b5dc-4a14-438d-aace-154d3f54d9f8",
   "metadata": {},
   "outputs": [],
   "source": [
    "getwd()"
   ]
  },
  {
   "cell_type": "markdown",
   "id": "bcbcfd8f-674f-4462-8eb6-a902c2fca5a4",
   "metadata": {},
   "source": [
    "Now we can do the same for every other taxonomic level:"
   ]
  },
  {
   "cell_type": "markdown",
   "id": "cabd6459-7805-4150-b423-9eca0b425ef8",
   "metadata": {},
   "source": [
    "### Class"
   ]
  },
  {
   "cell_type": "markdown",
   "id": "8ac0131d-052d-4400-aaad-0c5537b837ab",
   "metadata": {},
   "source": [
    "Unique classes, pre-filtration."
   ]
  },
  {
   "cell_type": "code",
   "execution_count": null,
   "id": "40663c3c-7a24-4e75-af7d-609946ffe690",
   "metadata": {},
   "outputs": [],
   "source": [
    "gsub(\"c__\", \"\", unique(mytaxsplit_prefilt$Class))"
   ]
  },
  {
   "cell_type": "markdown",
   "id": "d2188262-5f05-485f-9169-94e3f26baf0f",
   "metadata": {},
   "source": [
    "Number of ASVs that fall under each class, pre-filtration"
   ]
  },
  {
   "cell_type": "code",
   "execution_count": null,
   "id": "acb8ac3f-78a8-4219-8f58-7ed5ab48380f",
   "metadata": {},
   "outputs": [],
   "source": [
    "table(mytaxsplit_prefilt$Class)"
   ]
  },
  {
   "cell_type": "markdown",
   "id": "5c19b4fb-948b-4304-bf41-13aed53cbefd",
   "metadata": {},
   "source": [
    "Unique classes, post-filtration."
   ]
  },
  {
   "cell_type": "code",
   "execution_count": null,
   "id": "62265189-900f-4e45-8dfa-761829e666ca",
   "metadata": {},
   "outputs": [],
   "source": [
    "gsub(\"c__\", \"\", unique(mytaxsplit$Class))"
   ]
  },
  {
   "cell_type": "markdown",
   "id": "a29a7e23-01da-43e5-908f-f0ed86fd71eb",
   "metadata": {},
   "source": [
    "Number of ASVs that fall under each class, post-filtration"
   ]
  },
  {
   "cell_type": "code",
   "execution_count": null,
   "id": "39025a74-2227-44b0-8566-c8f0f467892e",
   "metadata": {},
   "outputs": [],
   "source": [
    "table(mytaxsplit$Class)"
   ]
  },
  {
   "cell_type": "markdown",
   "id": "6dd191b1-56cc-405f-9697-f1cdea811aee",
   "metadata": {},
   "source": [
    "Plot of pre-filtration vs post-filtration classes"
   ]
  },
  {
   "cell_type": "code",
   "execution_count": null,
   "id": "be20cc50-c453-4dc1-8939-5ce50f669482",
   "metadata": {},
   "outputs": [],
   "source": [
    "p <- ggplot(as.data.frame(table(mytaxsplit_prefilt$Class)), aes(Var1, Freq, fill = Var1)) + \n",
    "  geom_bar(stat=\"identity\")\n",
    "p <- p + theme_bw() + ylab(\"Number of taxa\") + xlab(\"Taxa name\") + ggtitle(\"Pre-filtered\") + theme(legend.position=\"none\", text = element_text(size = 18))\n",
    "p2 <- ggplot(as.data.frame(table(mytaxsplit$Class)), aes(Var1, Freq, fill = Var1)) + \n",
    "  geom_bar(stat=\"identity\")\n",
    "p2 <- p2 + theme_bw() + ylab(\"Number of taxa\") + xlab(\"Taxa name\") + ggtitle(\"Post-filtered\") + theme(legend.position=\"none\", text = element_text(size = 18))\n",
    "p3 <- ggarrange(p, p2)\n",
    "p3"
   ]
  },
  {
   "cell_type": "markdown",
   "id": "ebf75132-d938-431c-8ef6-f420b216c22a",
   "metadata": {},
   "source": [
    "Export as a 300dpi TIFF"
   ]
  },
  {
   "cell_type": "code",
   "execution_count": null,
   "id": "1f405c6e-c47b-4586-bca5-7cea846354f7",
   "metadata": {},
   "outputs": [],
   "source": [
    "tiff_exp <- paste0(project_id, \"_pre_vs_postfiltration_class.tiff\")\n",
    "ggsave(file = tiff_exp, dpi = 300, compression = \"lzw\", device = \"tiff\", plot = p3, width = 20, height = 20, units = \"cm\")"
   ]
  },
  {
   "cell_type": "markdown",
   "id": "c52b3ee6-06ec-436f-868a-d1e0e203922d",
   "metadata": {},
   "source": [
    "Export as a pdf"
   ]
  },
  {
   "cell_type": "code",
   "execution_count": null,
   "id": "a68459e6-d2a7-4418-b1dd-64936536c8f8",
   "metadata": {},
   "outputs": [],
   "source": [
    "pdf_exp <- paste0(project_id, \"_pre_vs_postfiltration_class.pdf\")\n",
    "ggsave(file = pdf_exp, device = \"pdf\", plot = p3, width = 20, height = 20, units = \"cm\")"
   ]
  },
  {
   "cell_type": "markdown",
   "id": "14429b45-5e95-46b9-b710-1cef4d97be3b",
   "metadata": {},
   "source": [
    "### Order"
   ]
  },
  {
   "cell_type": "markdown",
   "id": "48315d96-7e86-4c6f-8b39-5f5dbec3dd9c",
   "metadata": {},
   "source": [
    "Unique orders, pre-filtration."
   ]
  },
  {
   "cell_type": "code",
   "execution_count": null,
   "id": "638e2618-f5e1-49bb-9ef6-35c960568285",
   "metadata": {},
   "outputs": [],
   "source": [
    "gsub(\"o__\", \"\", unique(mytaxsplit_prefilt$Order))"
   ]
  },
  {
   "cell_type": "markdown",
   "id": "2be8d31c-ca7b-4944-bb15-e21fe071e2b2",
   "metadata": {},
   "source": [
    "Number of ASVs that fall under each order, pre-filtration"
   ]
  },
  {
   "cell_type": "code",
   "execution_count": null,
   "id": "dec67586-322b-4f68-a523-21a9bd6be55e",
   "metadata": {},
   "outputs": [],
   "source": [
    "table(mytaxsplit_prefilt$Order)"
   ]
  },
  {
   "cell_type": "markdown",
   "id": "565268e0-bcd0-461c-8cf6-547bcd7c828a",
   "metadata": {},
   "source": [
    "Unique orders, post-filtration."
   ]
  },
  {
   "cell_type": "code",
   "execution_count": null,
   "id": "46f0ab4e-85cd-4069-af2b-2897fe5c4425",
   "metadata": {},
   "outputs": [],
   "source": [
    "gsub(\"o__\", \"\", unique(mytaxsplit$Order))"
   ]
  },
  {
   "cell_type": "markdown",
   "id": "edef7585-948d-45cf-8c02-5d0f9556cd3b",
   "metadata": {},
   "source": [
    "Number of ASVs that fall under each order, post-filtration"
   ]
  },
  {
   "cell_type": "code",
   "execution_count": null,
   "id": "16b144ec-b3e2-466b-91c0-6a8ec854769d",
   "metadata": {},
   "outputs": [],
   "source": [
    "table(mytaxsplit$Order)"
   ]
  },
  {
   "cell_type": "markdown",
   "id": "fd6ce74f-d9e5-4734-977e-ec51ea231886",
   "metadata": {},
   "source": [
    "Plot of pre-filtration vs post-filtration orders"
   ]
  },
  {
   "cell_type": "code",
   "execution_count": null,
   "id": "12a591e0-a2f5-42a2-92f2-1b7c1df6e786",
   "metadata": {},
   "outputs": [],
   "source": [
    "p <- ggplot(as.data.frame(table(mytaxsplit_prefilt$Order)), aes(Var1, Freq, fill = Var1)) + \n",
    "  geom_bar(stat=\"identity\")\n",
    "p <- p + theme_bw() + ylab(\"Number of taxa\") + xlab(\"Taxa name\") + ggtitle(\"Pre-filtered\") + theme(legend.position=\"none\", text = element_text(size = 18), axis.text.x = element_text(angle = 90, size = 10))\n",
    "p2 <- ggplot(as.data.frame(table(mytaxsplit$Order)), aes(Var1, Freq, fill = Var1)) + \n",
    "  geom_bar(stat=\"identity\")\n",
    "p2 <- p2 + theme_bw() + ylab(\"Number of taxa\") + xlab(\"Taxa name\") + ggtitle(\"Post-filtered\") + theme(legend.position=\"none\", text = element_text(size = 18), axis.text.x = element_text(angle = 90, size = 12))\n",
    "p3 <- ggarrange(p, p2)\n",
    "p3"
   ]
  },
  {
   "cell_type": "markdown",
   "id": "39507b2c-1d70-4f97-b826-4bf7567b3e83",
   "metadata": {},
   "source": [
    "Export as a 300dpi TIFF"
   ]
  },
  {
   "cell_type": "code",
   "execution_count": null,
   "id": "4ea5f31e-7ca5-4bfa-96dc-01bac0c92925",
   "metadata": {},
   "outputs": [],
   "source": [
    "tiff_exp <- paste0(project_id, \"_pre_vs_postfiltration_order.tiff\")\n",
    "ggsave(file = tiff_exp, dpi = 300, compression = \"lzw\", device = \"tiff\", plot = p3, width = 20, height = 20, units = \"cm\")"
   ]
  },
  {
   "cell_type": "markdown",
   "id": "30824e5d-f5d3-4cfe-8dc5-1b8097c1f3fd",
   "metadata": {},
   "source": [
    "Export as a pdf"
   ]
  },
  {
   "cell_type": "code",
   "execution_count": null,
   "id": "2f5babdb-8ba8-4a24-ab5f-2546f346bf81",
   "metadata": {},
   "outputs": [],
   "source": [
    "pdf_exp <- paste0(project_id, \"_pre_vs_postfiltration_order.pdf\")\n",
    "ggsave(file = pdf_exp, device = \"pdf\", plot = p3, width = 20, height = 20, units = \"cm\")"
   ]
  },
  {
   "cell_type": "markdown",
   "id": "785ecee0-c535-4c66-8b5e-be51c90bc865",
   "metadata": {},
   "source": [
    "### Family"
   ]
  },
  {
   "cell_type": "markdown",
   "id": "95aad7e3-66be-4f55-a355-cc358f5f52be",
   "metadata": {},
   "source": [
    "Unique families, pre-filtration."
   ]
  },
  {
   "cell_type": "code",
   "execution_count": null,
   "id": "fef2fed1-366c-4868-8a08-83d733428fc8",
   "metadata": {},
   "outputs": [],
   "source": [
    "gsub(\"c__\", \"\", unique(mytaxsplit_prefilt$Family))"
   ]
  },
  {
   "cell_type": "markdown",
   "id": "c774e740-4037-4ab4-97d0-824109f2a2b3",
   "metadata": {},
   "source": [
    "Number of ASVs that fall under each family, pre-filtration"
   ]
  },
  {
   "cell_type": "code",
   "execution_count": null,
   "id": "44be072d-4258-4670-9559-5dddf71f4abf",
   "metadata": {},
   "outputs": [],
   "source": [
    "table(mytaxsplit_prefilt$Family)"
   ]
  },
  {
   "cell_type": "markdown",
   "id": "0c8de965-5659-4ec7-833f-8ca8a9b97b6e",
   "metadata": {},
   "source": [
    "Unique families, post-filtration."
   ]
  },
  {
   "cell_type": "code",
   "execution_count": null,
   "id": "a7129a27-2761-4ad5-b5bd-d38cecc8d9d3",
   "metadata": {},
   "outputs": [],
   "source": [
    "gsub(\"c__\", \"\", unique(mytaxsplit$Family))"
   ]
  },
  {
   "cell_type": "markdown",
   "id": "25b33fd8-b878-4064-a4d4-a4674d205b0c",
   "metadata": {},
   "source": [
    "Number of ASVs that fall under each family, post-filtration"
   ]
  },
  {
   "cell_type": "code",
   "execution_count": null,
   "id": "755719c7-9c2e-4800-8b5b-e421e047358f",
   "metadata": {},
   "outputs": [],
   "source": [
    "table(mytaxsplit$Family)"
   ]
  },
  {
   "cell_type": "markdown",
   "id": "16a3c49e-617c-476b-81b2-b720f436786a",
   "metadata": {},
   "source": [
    "Plot of pre-filtration vs post-filtration families"
   ]
  },
  {
   "cell_type": "code",
   "execution_count": null,
   "id": "447c5b4b-839b-4c15-8c65-642b4181e29e",
   "metadata": {},
   "outputs": [],
   "source": [
    "p <- ggplot(as.data.frame(table(mytaxsplit_prefilt$Family)), aes(Var1, Freq, fill = Var1)) + \n",
    "  geom_bar(stat=\"identity\")\n",
    "p <- p + theme_bw() + ylab(\"Number of taxa\") + xlab(\"Taxa name\") + ggtitle(\"Pre-filtered\") + theme(legend.position=\"none\", text = element_text(size = 18), axis.text.x = element_text(angle = 90, size = 6))\n",
    "p2 <- ggplot(as.data.frame(table(mytaxsplit$Family)), aes(Var1, Freq, fill = Var1)) + \n",
    "  geom_bar(stat=\"identity\")\n",
    "p2 <- p2 + theme_bw() + ylab(\"Number of taxa\") + xlab(\"Taxa name\") + ggtitle(\"Post-filtered\") + theme(legend.position=\"none\", text = element_text(size = 18), axis.text.x = element_text(angle = 90, size = 12))\n",
    "p3 <- ggarrange(p, p2)\n",
    "p3"
   ]
  },
  {
   "cell_type": "markdown",
   "id": "31c3233e-7974-49a6-8957-3c3b6914866f",
   "metadata": {},
   "source": [
    "Export as a 300dpi TIFF"
   ]
  },
  {
   "cell_type": "code",
   "execution_count": null,
   "id": "5c41ba5b-8269-4e61-97c8-3faec8d932a7",
   "metadata": {},
   "outputs": [],
   "source": [
    "tiff_exp <- paste0(project_id, \"_pre_vs_postfiltration_family.tiff\")\n",
    "ggsave(file = tiff_exp, dpi = 300, compression = \"lzw\", device = \"tiff\", plot = p3, width = 20, height = 20, units = \"cm\")"
   ]
  },
  {
   "cell_type": "markdown",
   "id": "da906a8a-b45b-4662-ac99-d0d24e7de03d",
   "metadata": {},
   "source": [
    "Export as a pdf"
   ]
  },
  {
   "cell_type": "code",
   "execution_count": null,
   "id": "7dc8c0c9-4940-4b7c-9f0e-4536df24f8ab",
   "metadata": {},
   "outputs": [],
   "source": [
    "pdf_exp <- paste0(project_id, \"_pre_vs_postfiltration_family.pdf\")\n",
    "ggsave(file = pdf_exp, device = \"pdf\", plot = p3, width = 20, height = 20, units = \"cm\")"
   ]
  },
  {
   "cell_type": "markdown",
   "id": "da0dd22d-fbc5-4bd4-af08-facc7d088751",
   "metadata": {},
   "source": [
    "### Genus"
   ]
  },
  {
   "cell_type": "markdown",
   "id": "36ca6d39-2855-4407-a31b-78895f23c71d",
   "metadata": {},
   "source": [
    "Unique genera, pre-filtration."
   ]
  },
  {
   "cell_type": "code",
   "execution_count": null,
   "id": "85c2d808-1e1a-4fa1-bc57-70086b9c9538",
   "metadata": {},
   "outputs": [],
   "source": [
    "gsub(\"c__\", \"\", unique(mytaxsplit_prefilt$Genus))"
   ]
  },
  {
   "cell_type": "markdown",
   "id": "9f74bed6-6c9a-4e34-a122-a9d613932070",
   "metadata": {},
   "source": [
    "Number of ASVs that fall under each genus, pre-filtration"
   ]
  },
  {
   "cell_type": "code",
   "execution_count": null,
   "id": "1b73188d-c417-454a-9d2f-0afc7dc51891",
   "metadata": {},
   "outputs": [],
   "source": [
    "table(mytaxsplit_prefilt$Genus)"
   ]
  },
  {
   "cell_type": "markdown",
   "id": "12b680bd-c5f7-4381-a8bd-6ddd4125255c",
   "metadata": {},
   "source": [
    "Unique genera, post-filtration."
   ]
  },
  {
   "cell_type": "code",
   "execution_count": null,
   "id": "5f1efc7d-2798-482e-bbf2-ace34ec17963",
   "metadata": {},
   "outputs": [],
   "source": [
    "gsub(\"c__\", \"\", unique(mytaxsplit$Genus))"
   ]
  },
  {
   "cell_type": "markdown",
   "id": "e5fd4758-1d72-4c63-9ae9-1053bca92e4c",
   "metadata": {},
   "source": [
    "Number of ASVs that fall under each genus, post-filtration"
   ]
  },
  {
   "cell_type": "code",
   "execution_count": null,
   "id": "7cf0d4f2-4f2d-4963-9e03-cb0fecfa07a1",
   "metadata": {},
   "outputs": [],
   "source": [
    "table(mytaxsplit$Genus)"
   ]
  },
  {
   "cell_type": "markdown",
   "id": "69708d46-e81d-4381-8ec5-68d99adc68fa",
   "metadata": {},
   "source": [
    "Plot of pre-filtration vs post-filtration genera"
   ]
  },
  {
   "cell_type": "code",
   "execution_count": null,
   "id": "38593b34-728d-49da-8dc9-0eb047955fd4",
   "metadata": {},
   "outputs": [],
   "source": [
    "p <- ggplot(as.data.frame(table(mytaxsplit_prefilt$Genus)), aes(Var1, Freq, fill = Var1)) + \n",
    "  geom_bar(stat=\"identity\")\n",
    "p <- p + theme_bw() + ylab(\"Number of taxa\") + xlab(\"Taxa name\") + ggtitle(\"Pre-filtered\") + theme(legend.position=\"none\", text = element_text(size = 18), axis.text.x = element_text(angle = 90, size = 6))\n",
    "p2 <- ggplot(as.data.frame(table(mytaxsplit$Genus)), aes(Var1, Freq, fill = Var1)) + \n",
    "  geom_bar(stat=\"identity\")\n",
    "p2 <- p2 + theme_bw() + ylab(\"Number of taxa\") + xlab(\"Taxa name\") + ggtitle(\"Post-filtered\") + theme(legend.position=\"none\", text = element_text(size = 18), axis.text.x = element_text(angle = 90, size = 12))\n",
    "p3 <- ggarrange(p, p2)\n",
    "p3"
   ]
  },
  {
   "cell_type": "markdown",
   "id": "4ec7d720-f9c5-45d0-8949-4f972d125e05",
   "metadata": {},
   "source": [
    "Export as a 300dpi TIFF"
   ]
  },
  {
   "cell_type": "code",
   "execution_count": null,
   "id": "33c8aa47-e0f1-4e4b-bb0d-8d3d1f51768a",
   "metadata": {},
   "outputs": [],
   "source": [
    "tiff_exp <- paste0(project_id, \"_pre_vs_postfiltration_genus.tiff\")\n",
    "ggsave(file = tiff_exp, dpi = 300, compression = \"lzw\", device = \"tiff\", plot = p3, width = 20, height = 20, units = \"cm\")"
   ]
  },
  {
   "cell_type": "markdown",
   "id": "5d06e4a5-3da1-4b03-8a9b-9da780e74303",
   "metadata": {},
   "source": [
    "Export as a pdf"
   ]
  },
  {
   "cell_type": "code",
   "execution_count": null,
   "id": "cc076409-c7aa-4a33-ab5b-af1ed4a87382",
   "metadata": {},
   "outputs": [],
   "source": [
    "pdf_exp <- paste0(project_id, \"_pre_vs_postfiltration_genus.pdf\")\n",
    "ggsave(file = pdf_exp, device = \"pdf\", plot = p3, width = 20, height = 20, units = \"cm\")"
   ]
  },
  {
   "cell_type": "markdown",
   "id": "ea3d037e-2bab-4e84-a2b8-2c43f93a9958",
   "metadata": {},
   "source": [
    "### Species"
   ]
  },
  {
   "cell_type": "markdown",
   "id": "c348652f-2af3-4b08-8fd7-68f52ff25d39",
   "metadata": {},
   "source": [
    "Unique species, pre-filtration."
   ]
  },
  {
   "cell_type": "code",
   "execution_count": null,
   "id": "cc954f21-3dd7-48f9-9ba5-ab3fee3d02f9",
   "metadata": {},
   "outputs": [],
   "source": [
    "gsub(\"c__\", \"\", unique(mytaxsplit_prefilt$Species))"
   ]
  },
  {
   "cell_type": "markdown",
   "id": "742286f0-6e81-43d7-b100-871586ef1e59",
   "metadata": {},
   "source": [
    "Number of ASVs that fall under each species, pre-filtration"
   ]
  },
  {
   "cell_type": "code",
   "execution_count": null,
   "id": "32d4e605-3ac8-4794-b279-2b800985f9b4",
   "metadata": {},
   "outputs": [],
   "source": [
    "table(mytaxsplit_prefilt$Species)"
   ]
  },
  {
   "cell_type": "markdown",
   "id": "78439d1d-040e-42b5-bbb6-7329946e3795",
   "metadata": {},
   "source": [
    "Unique species, post-filtration."
   ]
  },
  {
   "cell_type": "code",
   "execution_count": null,
   "id": "d4c10672-e554-4c3e-ac58-40faca63fd3d",
   "metadata": {},
   "outputs": [],
   "source": [
    "gsub(\"c__\", \"\", unique(mytaxsplit$Species))"
   ]
  },
  {
   "cell_type": "markdown",
   "id": "7ba7abe4-2e25-4e15-803b-cc73ef5c9c62",
   "metadata": {},
   "source": [
    "Number of ASVs that fall under each species, post-filtration"
   ]
  },
  {
   "cell_type": "code",
   "execution_count": null,
   "id": "6a83a51f-08c7-4f56-9b4e-2070e6cdbc31",
   "metadata": {},
   "outputs": [],
   "source": [
    "table(mytaxsplit$Species)"
   ]
  },
  {
   "cell_type": "markdown",
   "id": "478b7969-ecd9-4d5e-b664-2fc102a40ca1",
   "metadata": {},
   "source": [
    "Plot of pre-filtration vs post-filtration species"
   ]
  },
  {
   "cell_type": "code",
   "execution_count": null,
   "id": "a288a1fe-19ff-4caa-84aa-9c39ca17fa37",
   "metadata": {},
   "outputs": [],
   "source": [
    "p <- ggplot(as.data.frame(table(mytaxsplit_prefilt$Species)), aes(Var1, Freq, fill = Var1)) + \n",
    "  geom_bar(stat=\"identity\")\n",
    "p <- p + theme_bw() + ylab(\"Number of taxa\") + xlab(\"Taxa name\") + ggtitle(\"Pre-filtered\") + theme(legend.position=\"none\", text = element_text(size = 18), axis.text.x = element_text(angle = 90, size = 6))\n",
    "p2 <- ggplot(as.data.frame(table(mytaxsplit$Species)), aes(Var1, Freq, fill = Var1)) + \n",
    "  geom_bar(stat=\"identity\")\n",
    "p2 <- p2 + theme_bw() + ylab(\"Number of taxa\") + xlab(\"Taxa name\") + ggtitle(\"Post-filtered\") + theme(legend.position=\"none\", text = element_text(size = 18), axis.text.x = element_text(angle = 90, size = 12))\n",
    "p3 <- ggarrange(p, p2)\n",
    "p3"
   ]
  },
  {
   "cell_type": "markdown",
   "id": "ace02023-9512-48a7-9183-1d821bc7ce32",
   "metadata": {},
   "source": [
    "Export as a 300dpi TIFF"
   ]
  },
  {
   "cell_type": "code",
   "execution_count": null,
   "id": "777164dd-128a-444c-b119-d1239e72b00e",
   "metadata": {},
   "outputs": [],
   "source": [
    "tiff_exp <- paste0(project_id, \"_pre_vs_postfiltration_species.tiff\")\n",
    "ggsave(file = tiff_exp, dpi = 300, compression = \"lzw\", device = \"tiff\", plot = p3, width = 20, height = 20, units = \"cm\")"
   ]
  },
  {
   "cell_type": "markdown",
   "id": "1c2726b6-6464-4d0c-a510-e7a8d5580856",
   "metadata": {},
   "source": [
    "Export as a pdf"
   ]
  },
  {
   "cell_type": "code",
   "execution_count": null,
   "id": "5c7e28eb-728e-4295-b119-f6cbe3d85a1c",
   "metadata": {},
   "outputs": [],
   "source": [
    "pdf_exp <- paste0(project_id, \"_pre_vs_postfiltration_species.pdf\")\n",
    "ggsave(file = pdf_exp, device = \"pdf\", plot = p3, width = 20, height = 20, units = \"cm\")"
   ]
  },
  {
   "cell_type": "markdown",
   "id": "094e5b36-8092-4b90-a479-9769813b85ad",
   "metadata": {},
   "source": [
    "******************************"
   ]
  },
  {
   "cell_type": "markdown",
   "id": "219f6c00-c98f-4511-a3ba-6ab1e9e65291",
   "metadata": {},
   "source": [
    "## 8. Exporting filtered results <a class=\"anchor\" id=\"expana1\"></a>"
   ]
  },
  {
   "cell_type": "markdown",
   "id": "3e33ab62-c2ce-4aa5-8d2d-cbf5e8159da4",
   "metadata": {},
   "source": [
    "In this section we'll save the filtrated data as files, which can be imported into the other sections of this workflow. Thus filtration only has to be completed once. The filtered data files could also be used as supplemental material in manuscripts."
   ]
  },
  {
   "cell_type": "markdown",
   "id": "02aea442-f7ac-41fa-b604-49b67b33bde5",
   "metadata": {},
   "source": [
    "Export the filtered abundance table and taxonomy table (to your working directory):"
   ]
  },
  {
   "cell_type": "code",
   "execution_count": null,
   "id": "a697ffb9-ec6a-4360-9e9d-86aab2ac13e6",
   "metadata": {},
   "outputs": [],
   "source": [
    "write.csv(asv_table, paste0(project_id, \"_filtered_data.csv\"), row.names = F)"
   ]
  },
  {
   "cell_type": "markdown",
   "id": "d182d46e-dcb8-4205-8c30-1590cf93d614",
   "metadata": {},
   "source": [
    "[Click here to go to the next section: 6. Alpha diversity](./anacapa_6_AD.ipynb)"
   ]
  },
  {
   "cell_type": "code",
   "execution_count": null,
   "id": "c9f6234f-7e9e-4d86-ac4a-38444f19fc25",
   "metadata": {},
   "outputs": [],
   "source": []
  }
 ],
 "metadata": {
  "kernelspec": {
   "display_name": "R",
   "language": "R",
   "name": "ir"
  },
  "language_info": {
   "codemirror_mode": "r",
   "file_extension": ".r",
   "mimetype": "text/x-r-source",
   "name": "R",
   "pygments_lexer": "r",
   "version": "4.1.3"
  }
 },
 "nbformat": 4,
 "nbformat_minor": 5
}
